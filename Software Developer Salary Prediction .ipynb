{
 "cells": [
  {
   "cell_type": "code",
   "execution_count": 1,
   "id": "884ab5ec",
   "metadata": {},
   "outputs": [],
   "source": [
    "# import important libraries\n",
    "import pandas as pd\n",
    "import numpy as np\n",
    "import seaborn as sns\n",
    "import matplotlib.pyplot as plt"
   ]
  },
  {
   "cell_type": "code",
   "execution_count": 2,
   "id": "29393dfb",
   "metadata": {},
   "outputs": [
    {
     "ename": "FileNotFoundError",
     "evalue": "[Errno 2] No such file or directory: 'survey_results_public.csv'",
     "output_type": "error",
     "traceback": [
      "\u001b[1;31m---------------------------------------------------------------------------\u001b[0m",
      "\u001b[1;31mFileNotFoundError\u001b[0m                         Traceback (most recent call last)",
      "\u001b[1;32m~\\AppData\\Local\\Temp/ipykernel_13188/3334698726.py\u001b[0m in \u001b[0;36m<module>\u001b[1;34m\u001b[0m\n\u001b[0;32m      1\u001b[0m \u001b[1;31m# import dataset from external storage\u001b[0m\u001b[1;33m\u001b[0m\u001b[1;33m\u001b[0m\u001b[0m\n\u001b[1;32m----> 2\u001b[1;33m \u001b[0mdf\u001b[0m \u001b[1;33m=\u001b[0m \u001b[0mpd\u001b[0m\u001b[1;33m.\u001b[0m\u001b[0mread_csv\u001b[0m\u001b[1;33m(\u001b[0m\u001b[1;34m'survey_results_public.csv'\u001b[0m\u001b[1;33m)\u001b[0m\u001b[1;33m\u001b[0m\u001b[1;33m\u001b[0m\u001b[0m\n\u001b[0m\u001b[0;32m      3\u001b[0m \u001b[0mdf\u001b[0m\u001b[1;33m.\u001b[0m\u001b[0mhead\u001b[0m\u001b[1;33m(\u001b[0m\u001b[1;33m)\u001b[0m\u001b[1;33m\u001b[0m\u001b[1;33m\u001b[0m\u001b[0m\n",
      "\u001b[1;32m~\\anaconda3\\lib\\site-packages\\pandas\\util\\_decorators.py\u001b[0m in \u001b[0;36mwrapper\u001b[1;34m(*args, **kwargs)\u001b[0m\n\u001b[0;32m    309\u001b[0m                     \u001b[0mstacklevel\u001b[0m\u001b[1;33m=\u001b[0m\u001b[0mstacklevel\u001b[0m\u001b[1;33m,\u001b[0m\u001b[1;33m\u001b[0m\u001b[1;33m\u001b[0m\u001b[0m\n\u001b[0;32m    310\u001b[0m                 )\n\u001b[1;32m--> 311\u001b[1;33m             \u001b[1;32mreturn\u001b[0m \u001b[0mfunc\u001b[0m\u001b[1;33m(\u001b[0m\u001b[1;33m*\u001b[0m\u001b[0margs\u001b[0m\u001b[1;33m,\u001b[0m \u001b[1;33m**\u001b[0m\u001b[0mkwargs\u001b[0m\u001b[1;33m)\u001b[0m\u001b[1;33m\u001b[0m\u001b[1;33m\u001b[0m\u001b[0m\n\u001b[0m\u001b[0;32m    312\u001b[0m \u001b[1;33m\u001b[0m\u001b[0m\n\u001b[0;32m    313\u001b[0m         \u001b[1;32mreturn\u001b[0m \u001b[0mwrapper\u001b[0m\u001b[1;33m\u001b[0m\u001b[1;33m\u001b[0m\u001b[0m\n",
      "\u001b[1;32m~\\anaconda3\\lib\\site-packages\\pandas\\io\\parsers\\readers.py\u001b[0m in \u001b[0;36mread_csv\u001b[1;34m(filepath_or_buffer, sep, delimiter, header, names, index_col, usecols, squeeze, prefix, mangle_dupe_cols, dtype, engine, converters, true_values, false_values, skipinitialspace, skiprows, skipfooter, nrows, na_values, keep_default_na, na_filter, verbose, skip_blank_lines, parse_dates, infer_datetime_format, keep_date_col, date_parser, dayfirst, cache_dates, iterator, chunksize, compression, thousands, decimal, lineterminator, quotechar, quoting, doublequote, escapechar, comment, encoding, encoding_errors, dialect, error_bad_lines, warn_bad_lines, on_bad_lines, delim_whitespace, low_memory, memory_map, float_precision, storage_options)\u001b[0m\n\u001b[0;32m    584\u001b[0m     \u001b[0mkwds\u001b[0m\u001b[1;33m.\u001b[0m\u001b[0mupdate\u001b[0m\u001b[1;33m(\u001b[0m\u001b[0mkwds_defaults\u001b[0m\u001b[1;33m)\u001b[0m\u001b[1;33m\u001b[0m\u001b[1;33m\u001b[0m\u001b[0m\n\u001b[0;32m    585\u001b[0m \u001b[1;33m\u001b[0m\u001b[0m\n\u001b[1;32m--> 586\u001b[1;33m     \u001b[1;32mreturn\u001b[0m \u001b[0m_read\u001b[0m\u001b[1;33m(\u001b[0m\u001b[0mfilepath_or_buffer\u001b[0m\u001b[1;33m,\u001b[0m \u001b[0mkwds\u001b[0m\u001b[1;33m)\u001b[0m\u001b[1;33m\u001b[0m\u001b[1;33m\u001b[0m\u001b[0m\n\u001b[0m\u001b[0;32m    587\u001b[0m \u001b[1;33m\u001b[0m\u001b[0m\n\u001b[0;32m    588\u001b[0m \u001b[1;33m\u001b[0m\u001b[0m\n",
      "\u001b[1;32m~\\anaconda3\\lib\\site-packages\\pandas\\io\\parsers\\readers.py\u001b[0m in \u001b[0;36m_read\u001b[1;34m(filepath_or_buffer, kwds)\u001b[0m\n\u001b[0;32m    480\u001b[0m \u001b[1;33m\u001b[0m\u001b[0m\n\u001b[0;32m    481\u001b[0m     \u001b[1;31m# Create the parser.\u001b[0m\u001b[1;33m\u001b[0m\u001b[1;33m\u001b[0m\u001b[0m\n\u001b[1;32m--> 482\u001b[1;33m     \u001b[0mparser\u001b[0m \u001b[1;33m=\u001b[0m \u001b[0mTextFileReader\u001b[0m\u001b[1;33m(\u001b[0m\u001b[0mfilepath_or_buffer\u001b[0m\u001b[1;33m,\u001b[0m \u001b[1;33m**\u001b[0m\u001b[0mkwds\u001b[0m\u001b[1;33m)\u001b[0m\u001b[1;33m\u001b[0m\u001b[1;33m\u001b[0m\u001b[0m\n\u001b[0m\u001b[0;32m    483\u001b[0m \u001b[1;33m\u001b[0m\u001b[0m\n\u001b[0;32m    484\u001b[0m     \u001b[1;32mif\u001b[0m \u001b[0mchunksize\u001b[0m \u001b[1;32mor\u001b[0m \u001b[0miterator\u001b[0m\u001b[1;33m:\u001b[0m\u001b[1;33m\u001b[0m\u001b[1;33m\u001b[0m\u001b[0m\n",
      "\u001b[1;32m~\\anaconda3\\lib\\site-packages\\pandas\\io\\parsers\\readers.py\u001b[0m in \u001b[0;36m__init__\u001b[1;34m(self, f, engine, **kwds)\u001b[0m\n\u001b[0;32m    809\u001b[0m             \u001b[0mself\u001b[0m\u001b[1;33m.\u001b[0m\u001b[0moptions\u001b[0m\u001b[1;33m[\u001b[0m\u001b[1;34m\"has_index_names\"\u001b[0m\u001b[1;33m]\u001b[0m \u001b[1;33m=\u001b[0m \u001b[0mkwds\u001b[0m\u001b[1;33m[\u001b[0m\u001b[1;34m\"has_index_names\"\u001b[0m\u001b[1;33m]\u001b[0m\u001b[1;33m\u001b[0m\u001b[1;33m\u001b[0m\u001b[0m\n\u001b[0;32m    810\u001b[0m \u001b[1;33m\u001b[0m\u001b[0m\n\u001b[1;32m--> 811\u001b[1;33m         \u001b[0mself\u001b[0m\u001b[1;33m.\u001b[0m\u001b[0m_engine\u001b[0m \u001b[1;33m=\u001b[0m \u001b[0mself\u001b[0m\u001b[1;33m.\u001b[0m\u001b[0m_make_engine\u001b[0m\u001b[1;33m(\u001b[0m\u001b[0mself\u001b[0m\u001b[1;33m.\u001b[0m\u001b[0mengine\u001b[0m\u001b[1;33m)\u001b[0m\u001b[1;33m\u001b[0m\u001b[1;33m\u001b[0m\u001b[0m\n\u001b[0m\u001b[0;32m    812\u001b[0m \u001b[1;33m\u001b[0m\u001b[0m\n\u001b[0;32m    813\u001b[0m     \u001b[1;32mdef\u001b[0m \u001b[0mclose\u001b[0m\u001b[1;33m(\u001b[0m\u001b[0mself\u001b[0m\u001b[1;33m)\u001b[0m\u001b[1;33m:\u001b[0m\u001b[1;33m\u001b[0m\u001b[1;33m\u001b[0m\u001b[0m\n",
      "\u001b[1;32m~\\anaconda3\\lib\\site-packages\\pandas\\io\\parsers\\readers.py\u001b[0m in \u001b[0;36m_make_engine\u001b[1;34m(self, engine)\u001b[0m\n\u001b[0;32m   1038\u001b[0m             )\n\u001b[0;32m   1039\u001b[0m         \u001b[1;31m# error: Too many arguments for \"ParserBase\"\u001b[0m\u001b[1;33m\u001b[0m\u001b[1;33m\u001b[0m\u001b[0m\n\u001b[1;32m-> 1040\u001b[1;33m         \u001b[1;32mreturn\u001b[0m \u001b[0mmapping\u001b[0m\u001b[1;33m[\u001b[0m\u001b[0mengine\u001b[0m\u001b[1;33m]\u001b[0m\u001b[1;33m(\u001b[0m\u001b[0mself\u001b[0m\u001b[1;33m.\u001b[0m\u001b[0mf\u001b[0m\u001b[1;33m,\u001b[0m \u001b[1;33m**\u001b[0m\u001b[0mself\u001b[0m\u001b[1;33m.\u001b[0m\u001b[0moptions\u001b[0m\u001b[1;33m)\u001b[0m  \u001b[1;31m# type: ignore[call-arg]\u001b[0m\u001b[1;33m\u001b[0m\u001b[1;33m\u001b[0m\u001b[0m\n\u001b[0m\u001b[0;32m   1041\u001b[0m \u001b[1;33m\u001b[0m\u001b[0m\n\u001b[0;32m   1042\u001b[0m     \u001b[1;32mdef\u001b[0m \u001b[0m_failover_to_python\u001b[0m\u001b[1;33m(\u001b[0m\u001b[0mself\u001b[0m\u001b[1;33m)\u001b[0m\u001b[1;33m:\u001b[0m\u001b[1;33m\u001b[0m\u001b[1;33m\u001b[0m\u001b[0m\n",
      "\u001b[1;32m~\\anaconda3\\lib\\site-packages\\pandas\\io\\parsers\\c_parser_wrapper.py\u001b[0m in \u001b[0;36m__init__\u001b[1;34m(self, src, **kwds)\u001b[0m\n\u001b[0;32m     49\u001b[0m \u001b[1;33m\u001b[0m\u001b[0m\n\u001b[0;32m     50\u001b[0m         \u001b[1;31m# open handles\u001b[0m\u001b[1;33m\u001b[0m\u001b[1;33m\u001b[0m\u001b[0m\n\u001b[1;32m---> 51\u001b[1;33m         \u001b[0mself\u001b[0m\u001b[1;33m.\u001b[0m\u001b[0m_open_handles\u001b[0m\u001b[1;33m(\u001b[0m\u001b[0msrc\u001b[0m\u001b[1;33m,\u001b[0m \u001b[0mkwds\u001b[0m\u001b[1;33m)\u001b[0m\u001b[1;33m\u001b[0m\u001b[1;33m\u001b[0m\u001b[0m\n\u001b[0m\u001b[0;32m     52\u001b[0m         \u001b[1;32massert\u001b[0m \u001b[0mself\u001b[0m\u001b[1;33m.\u001b[0m\u001b[0mhandles\u001b[0m \u001b[1;32mis\u001b[0m \u001b[1;32mnot\u001b[0m \u001b[1;32mNone\u001b[0m\u001b[1;33m\u001b[0m\u001b[1;33m\u001b[0m\u001b[0m\n\u001b[0;32m     53\u001b[0m \u001b[1;33m\u001b[0m\u001b[0m\n",
      "\u001b[1;32m~\\anaconda3\\lib\\site-packages\\pandas\\io\\parsers\\base_parser.py\u001b[0m in \u001b[0;36m_open_handles\u001b[1;34m(self, src, kwds)\u001b[0m\n\u001b[0;32m    220\u001b[0m         \u001b[0mLet\u001b[0m \u001b[0mthe\u001b[0m \u001b[0mreaders\u001b[0m \u001b[0mopen\u001b[0m \u001b[0mIOHandles\u001b[0m \u001b[0mafter\u001b[0m \u001b[0mthey\u001b[0m \u001b[0mare\u001b[0m \u001b[0mdone\u001b[0m \u001b[1;32mwith\u001b[0m \u001b[0mtheir\u001b[0m \u001b[0mpotential\u001b[0m \u001b[0mraises\u001b[0m\u001b[1;33m.\u001b[0m\u001b[1;33m\u001b[0m\u001b[1;33m\u001b[0m\u001b[0m\n\u001b[0;32m    221\u001b[0m         \"\"\"\n\u001b[1;32m--> 222\u001b[1;33m         self.handles = get_handle(\n\u001b[0m\u001b[0;32m    223\u001b[0m             \u001b[0msrc\u001b[0m\u001b[1;33m,\u001b[0m\u001b[1;33m\u001b[0m\u001b[1;33m\u001b[0m\u001b[0m\n\u001b[0;32m    224\u001b[0m             \u001b[1;34m\"r\"\u001b[0m\u001b[1;33m,\u001b[0m\u001b[1;33m\u001b[0m\u001b[1;33m\u001b[0m\u001b[0m\n",
      "\u001b[1;32m~\\anaconda3\\lib\\site-packages\\pandas\\io\\common.py\u001b[0m in \u001b[0;36mget_handle\u001b[1;34m(path_or_buf, mode, encoding, compression, memory_map, is_text, errors, storage_options)\u001b[0m\n\u001b[0;32m    700\u001b[0m         \u001b[1;32mif\u001b[0m \u001b[0mioargs\u001b[0m\u001b[1;33m.\u001b[0m\u001b[0mencoding\u001b[0m \u001b[1;32mand\u001b[0m \u001b[1;34m\"b\"\u001b[0m \u001b[1;32mnot\u001b[0m \u001b[1;32min\u001b[0m \u001b[0mioargs\u001b[0m\u001b[1;33m.\u001b[0m\u001b[0mmode\u001b[0m\u001b[1;33m:\u001b[0m\u001b[1;33m\u001b[0m\u001b[1;33m\u001b[0m\u001b[0m\n\u001b[0;32m    701\u001b[0m             \u001b[1;31m# Encoding\u001b[0m\u001b[1;33m\u001b[0m\u001b[1;33m\u001b[0m\u001b[0m\n\u001b[1;32m--> 702\u001b[1;33m             handle = open(\n\u001b[0m\u001b[0;32m    703\u001b[0m                 \u001b[0mhandle\u001b[0m\u001b[1;33m,\u001b[0m\u001b[1;33m\u001b[0m\u001b[1;33m\u001b[0m\u001b[0m\n\u001b[0;32m    704\u001b[0m                 \u001b[0mioargs\u001b[0m\u001b[1;33m.\u001b[0m\u001b[0mmode\u001b[0m\u001b[1;33m,\u001b[0m\u001b[1;33m\u001b[0m\u001b[1;33m\u001b[0m\u001b[0m\n",
      "\u001b[1;31mFileNotFoundError\u001b[0m: [Errno 2] No such file or directory: 'survey_results_public.csv'"
     ]
    }
   ],
   "source": [
    "# import dataset from external storage\n",
    "df = pd.read_csv('survey_results_public.csv')\n",
    "df.head()"
   ]
  },
  {
   "cell_type": "code",
   "execution_count": null,
   "id": "0ff3705b",
   "metadata": {},
   "outputs": [],
   "source": [
    "# check shape of dataframe\n",
    "df.shape"
   ]
  },
  {
   "cell_type": "code",
   "execution_count": null,
   "id": "217d5b70",
   "metadata": {},
   "outputs": [],
   "source": [
    "# select only important columns for better prediction\n",
    "df2 = df[['Employment', 'Country', 'EdLevel', 'YearsCodePro', 'ConvertedCompYearly']]\n",
    "df2.rename({'ConvertedCompYearly':'Salary', 'YearsCodePro':'YearOfExperience', 'EdLevel':'HighestEducation'}, axis = 1, inplace=True)\n",
    "df2.head()"
   ]
  },
  {
   "cell_type": "markdown",
   "id": "ed7a8114",
   "metadata": {},
   "source": [
    "# Data Cleaning"
   ]
  },
  {
   "cell_type": "code",
   "execution_count": null,
   "id": "a91ca1d9",
   "metadata": {},
   "outputs": [],
   "source": [
    "# removeing null values from salary column\n",
    "df2 = df2[df2['Salary'].notnull()]\n",
    "df2.head()"
   ]
  },
  {
   "cell_type": "code",
   "execution_count": null,
   "id": "1ba61b33",
   "metadata": {},
   "outputs": [],
   "source": [
    "# find null values in dataframe\n",
    "df2.isnull().sum()"
   ]
  },
  {
   "cell_type": "code",
   "execution_count": null,
   "id": "bc21e976",
   "metadata": {},
   "outputs": [],
   "source": [
    "# remove all null values from dataframe\n",
    "df2.dropna(inplace=True)"
   ]
  },
  {
   "cell_type": "code",
   "execution_count": null,
   "id": "1fec3852",
   "metadata": {},
   "outputs": [],
   "source": [
    "# check null values after cleaning\n",
    "df2.isnull().sum()"
   ]
  },
  {
   "cell_type": "code",
   "execution_count": null,
   "id": "c068bdd1",
   "metadata": {},
   "outputs": [],
   "source": [
    "# only select those data where employment is full time\n",
    "df2 = df2[df2['Employment']== 'Employed full-time']\n",
    "df2.head()"
   ]
  },
  {
   "cell_type": "code",
   "execution_count": null,
   "id": "7e26c0e1",
   "metadata": {},
   "outputs": [],
   "source": [
    "# new data frame shape\n",
    "df2.shape"
   ]
  },
  {
   "cell_type": "code",
   "execution_count": null,
   "id": "552d0ac6",
   "metadata": {},
   "outputs": [],
   "source": [
    "# check values in country column\n",
    "country = df2['Country'].value_counts()\n",
    "country"
   ]
  },
  {
   "cell_type": "code",
   "execution_count": null,
   "id": "3a04cb27",
   "metadata": {},
   "outputs": [],
   "source": [
    "# country whose count is below then 400 asign them into new variable\n",
    "lessThen400 = country[country<400]\n",
    "lessThen400"
   ]
  },
  {
   "cell_type": "code",
   "execution_count": null,
   "id": "0d48294b",
   "metadata": {},
   "outputs": [],
   "source": [
    "# country whose count is below then 400, convert them into others\n",
    "df2['Country'] = df2['Country'].apply(lambda x: 'Others' if x in lessThen400 else x)"
   ]
  },
  {
   "cell_type": "code",
   "execution_count": null,
   "id": "b314a24e",
   "metadata": {},
   "outputs": [],
   "source": [
    "# country values count after converting\n",
    "df2.Country.value_counts()"
   ]
  },
  {
   "cell_type": "code",
   "execution_count": null,
   "id": "e44e59cb",
   "metadata": {},
   "outputs": [],
   "source": [
    "# remove those data where country is others\n",
    "df2 = df2[df2['Country'] != 'Others']\n",
    "df2"
   ]
  },
  {
   "cell_type": "code",
   "execution_count": null,
   "id": "de4281fa",
   "metadata": {},
   "outputs": [],
   "source": [
    "# country values counts after remove others data\n",
    "df2['Country'].value_counts()"
   ]
  },
  {
   "cell_type": "markdown",
   "id": "4bf11741",
   "metadata": {},
   "source": [
    "**Some Country Name Is Very Big So First We Have To Replace Them With Small Name**"
   ]
  },
  {
   "cell_type": "code",
   "execution_count": null,
   "id": "cb7311d3",
   "metadata": {},
   "outputs": [],
   "source": [
    "# rename countries whose name is very big\n",
    "df2.Country.replace('United Kingdom of Great Britain and Northern Ireland', 'Uk',inplace=True )\n",
    "df2.Country.replace('United States of America', 'America',inplace=True )\n",
    "df2.Country.replace('Russian Federation', 'Russia',inplace=True )"
   ]
  },
  {
   "cell_type": "code",
   "execution_count": null,
   "id": "3b70b5ad",
   "metadata": {},
   "outputs": [],
   "source": [
    "# check unique values in country column\n",
    "df2.Country.unique()"
   ]
  },
  {
   "cell_type": "code",
   "execution_count": null,
   "id": "54af50f8",
   "metadata": {},
   "outputs": [],
   "source": [
    "# check values count of highest education column\n",
    "df2.HighestEducation.value_counts()"
   ]
  },
  {
   "cell_type": "code",
   "execution_count": null,
   "id": "316baa8d",
   "metadata": {},
   "outputs": [],
   "source": [
    "# create a function to replace highest education column data\n",
    "def change_education(x):\n",
    "    if x == 'Bachelor’s degree (B.A., B.S., B.Eng., etc.)':\n",
    "        return \"Bachelor's Degree\"\n",
    "    elif x == 'Master’s degree (M.A., M.S., M.Eng., MBA, etc.)':\n",
    "        return \"Master’s Degree\"\n",
    "    elif x == 'Primary/elementary school' or x == 'Secondary school (e.g. American high school, German Realschule or Gymnasium, etc.)' or x == 'Some college/university study without earning a degree' or x == 'Other doctoral degree (Ph.D., Ed.D., etc.)' or x == 'Associate degree (A.A., A.S., etc.)' or x == 'Professional degree (JD, MD, etc.)' or x == 'Something else' :\n",
    "        return \"Non It Degree\"\n",
    "    return x"
   ]
  },
  {
   "cell_type": "code",
   "execution_count": null,
   "id": "ba269b34",
   "metadata": {},
   "outputs": [],
   "source": [
    "# apply function on highest education column\n",
    "df2['HighestEducation'] = df2['HighestEducation'].apply(change_education)"
   ]
  },
  {
   "cell_type": "code",
   "execution_count": null,
   "id": "94eb2bbb",
   "metadata": {},
   "outputs": [],
   "source": [
    "# check value counts of highest education column after replace value\n",
    "df2.HighestEducation.value_counts()"
   ]
  },
  {
   "cell_type": "code",
   "execution_count": null,
   "id": "410fecb7",
   "metadata": {},
   "outputs": [],
   "source": [
    "# check unique value in year of experience column\n",
    "df2['YearOfExperience'].unique()"
   ]
  },
  {
   "cell_type": "markdown",
   "id": "8fee4231",
   "metadata": {},
   "source": [
    "**There Are Some Wrong Datas, We Have To Replace Them With Right Data**"
   ]
  },
  {
   "cell_type": "code",
   "execution_count": null,
   "id": "10c8b15e",
   "metadata": {},
   "outputs": [],
   "source": [
    "# create a function to replace value of year of experience column\n",
    "def change_year(x):\n",
    "    if x == 'Less than 1 year':\n",
    "        return 0.5\n",
    "    elif x == 'More than 50 years':\n",
    "        return 50\n",
    "    return float(x)"
   ]
  },
  {
   "cell_type": "code",
   "execution_count": null,
   "id": "951f82f2",
   "metadata": {},
   "outputs": [],
   "source": [
    "# apply function\n",
    "df2['YearOfExperience'] = df2['YearOfExperience'].apply(change_year)"
   ]
  },
  {
   "cell_type": "code",
   "execution_count": null,
   "id": "966e1cd2",
   "metadata": {},
   "outputs": [],
   "source": [
    "# check unique value in year of experience column after replace\n",
    "df2['YearOfExperience'].unique()"
   ]
  },
  {
   "cell_type": "markdown",
   "id": "cb7e47ec",
   "metadata": {},
   "source": [
    "# Find And Remove Outliers"
   ]
  },
  {
   "cell_type": "code",
   "execution_count": null,
   "id": "28db8161",
   "metadata": {},
   "outputs": [],
   "source": [
    "# check outliers by boxplot\n",
    "plt.figure(figsize=(18,7))\n",
    "plt.subplot(2,2,1)\n",
    "sns.boxplot(df2['YearOfExperience'])\n",
    "plt.subplot(2,2,2)\n",
    "sns.boxplot(df2['Salary'])\n",
    "plt.show()"
   ]
  },
  {
   "cell_type": "code",
   "execution_count": null,
   "id": "4c0e1966",
   "metadata": {},
   "outputs": [],
   "source": [
    "# find outliers based on country\n",
    "plt.figure(figsize = (18,7))\n",
    "plt.subplot(2,1,1)\n",
    "sns.boxplot(df2['Country'], df2['YearOfExperience'])\n",
    "plt.subplot(2,1,2)\n",
    "sns.boxplot(df2['Country'], df2['Salary'])\n",
    "plt.show()"
   ]
  },
  {
   "cell_type": "markdown",
   "id": "831c438f",
   "metadata": {},
   "source": [
    "**We Can See There Are Different Different Outliers Based On Country, So We Have To Clean Them One By One**"
   ]
  },
  {
   "cell_type": "markdown",
   "id": "d2a27126",
   "metadata": {},
   "source": [
    "**Find And Remove Outliers From Year Of Experience And Salary Column**"
   ]
  },
  {
   "cell_type": "code",
   "execution_count": null,
   "id": "9e244aac",
   "metadata": {},
   "outputs": [],
   "source": [
    "sweden = df2[df2['Country'] == 'Sweden']\n",
    "spain = df2[df2['Country'] == 'Spain']\n",
    "germany = df2[df2['Country'] == 'Germany']\n",
    "turkey = df2[df2['Country'] == 'Turkey']\n",
    "canada = df2[df2['Country'] == 'Canada']\n",
    "\n",
    "france = df2[df2['Country'] == 'France']\n",
    "switzerland = df2[df2['Country'] == 'Switzerland']\n",
    "uk = df2[df2['Country'] == 'Uk']\n",
    "russia = df2[df2['Country'] == 'Russia']\n",
    "\n",
    "israel = df2[df2['Country'] == 'Israel']\n",
    "america = df2[df2['Country'] == 'America']\n",
    "brazil = df2[df2['Country'] == 'Brazil']\n",
    "\n",
    "italy = df2[df2['Country'] == 'Italy']\n",
    "netherlands = df2[df2['Country'] == 'Netherlands']\n",
    "poland = df2[df2['Country'] == 'Poland']\n",
    "india = df2[df2['Country'] == 'India']\n",
    "australia = df2[df2['Country'] == 'Australia']\n",
    "norway = df2[df2['Country'] == 'Norway']"
   ]
  },
  {
   "cell_type": "code",
   "execution_count": null,
   "id": "d034fc32",
   "metadata": {},
   "outputs": [],
   "source": [
    "# India\n",
    "\n",
    "low = india['Salary'].quantile(0.25)\n",
    "high = india['Salary'].quantile(0.75)\n",
    "iqr = high-low\n",
    "\n",
    "percentile_1 = low - 1.5 * iqr\n",
    "percentile_3 = low + 1.5 * iqr\n",
    "\n",
    "india['Salary'] = india['Salary'].apply(lambda x: percentile_3 if x>percentile_3 else x)\n",
    "\n",
    "low = india['YearOfExperience'].quantile(0.25)\n",
    "high = india['YearOfExperience'].quantile(0.75)\n",
    "iqr = high-low\n",
    "\n",
    "percentile_1 = low - 1.5 * iqr\n",
    "percentile_3 = low + 1.5 * iqr\n",
    "\n",
    "india['YearOfExperience'] = india['YearOfExperience'].apply(lambda x: percentile_3 if x>percentile_3 else x)\n",
    "\n",
    "# America\n",
    "\n",
    "low = america['Salary'].quantile(0.25)\n",
    "high = america['Salary'].quantile(0.75)\n",
    "iqr = high-low\n",
    "\n",
    "percentile_1 = low - 1.5 * iqr\n",
    "percentile_3 = low + 1.5 * iqr\n",
    "\n",
    "america['Salary'] = america['Salary'].apply(lambda x: percentile_3 if x>percentile_3 else x)\n",
    "\n",
    "low = america['YearOfExperience'].quantile(0.25)\n",
    "high = america['YearOfExperience'].quantile(0.75)\n",
    "iqr = high-low\n",
    "\n",
    "percentile_1 = low - 1.5 * iqr\n",
    "percentile_3 = low + 1.5 * iqr\n",
    "\n",
    "america['YearOfExperience'] = america['YearOfExperience'].apply(lambda x: percentile_3 if x>percentile_3 else x)\n",
    "\n",
    "# Russia\n",
    "\n",
    "low = russia['Salary'].quantile(0.25)\n",
    "high = russia['Salary'].quantile(0.75)\n",
    "iqr = high-low\n",
    "\n",
    "percentile_1 = low - 1.5 * iqr\n",
    "percentile_3 = low + 1.5 * iqr\n",
    "\n",
    "russia['Salary'] = russia['Salary'].apply(lambda x: percentile_3 if x>percentile_3 else x)\n",
    "\n",
    "low = russia['YearOfExperience'].quantile(0.25)\n",
    "high = russia['YearOfExperience'].quantile(0.75)\n",
    "iqr = high-low\n",
    "\n",
    "percentile_1 = low - 1.5 * iqr\n",
    "percentile_3 = low + 1.5 * iqr\n",
    "\n",
    "russia['YearOfExperience'] = russia['YearOfExperience'].apply(lambda x: percentile_3 if x>percentile_3 else x)\n",
    "\n",
    "# Brazil\n",
    "\n",
    "low = brazil['Salary'].quantile(0.25)\n",
    "high = brazil['Salary'].quantile(0.75)\n",
    "iqr = high-low\n",
    "\n",
    "percentile_1 = low - 1.5 * iqr\n",
    "percentile_3 = low + 1.5 * iqr\n",
    "\n",
    "brazil['Salary'] = brazil['Salary'].apply(lambda x: percentile_3 if x>percentile_3 else x)\n",
    "\n",
    "low = brazil['YearOfExperience'].quantile(0.25)\n",
    "high = brazil['YearOfExperience'].quantile(0.75)\n",
    "iqr = high-low\n",
    "\n",
    "percentile_1 = low - 1.5 * iqr\n",
    "percentile_3 = low + 1.5 * iqr\n",
    "\n",
    "brazil['YearOfExperience'] = brazil['YearOfExperience'].apply(lambda x: percentile_3 if x>percentile_3 else x)\n",
    "\n",
    "# Uk\n",
    "\n",
    "low = uk['Salary'].quantile(0.25)\n",
    "high = uk['Salary'].quantile(0.75)\n",
    "iqr = high-low\n",
    "\n",
    "percentile_1 = low - 1.5 * iqr\n",
    "percentile_3 = low + 1.5 * iqr\n",
    "uk['Salary'] = uk['Salary'].apply(lambda x: percentile_3 if x>percentile_3 else x)\n",
    "\n",
    "low = uk['YearOfExperience'].quantile(0.25)\n",
    "high = uk['YearOfExperience'].quantile(0.75)\n",
    "iqr = high-low\n",
    "\n",
    "percentile_1 = low - 1.5 * iqr\n",
    "percentile_3 = low + 1.5 * iqr\n",
    "uk['YearOfExperience'] = uk['YearOfExperience'].apply(lambda x: percentile_3 if x>percentile_3 else x)\n",
    "\n",
    "# Israel\n",
    "\n",
    "low = israel['Salary'].quantile(0.25)\n",
    "high = israel['Salary'].quantile(0.75)\n",
    "iqr = high-low\n",
    "\n",
    "percentile_1 = low - 1.5 * iqr\n",
    "percentile_3 = low + 1.5 * iqr\n",
    "israel['Salary'] = israel['Salary'].apply(lambda x: percentile_3 if x>percentile_3 else x)\n",
    "\n",
    "low = israel['YearOfExperience'].quantile(0.25)\n",
    "high = israel['YearOfExperience'].quantile(0.75)\n",
    "iqr = high-low\n",
    "\n",
    "percentile_1 = low - 1.5 * iqr\n",
    "percentile_3 = low + 1.5 * iqr\n",
    "israel['YearOfExperience'] = israel['YearOfExperience'].apply(lambda x: percentile_3 if x>percentile_3 else x)\n",
    "\n",
    "# France\n",
    "\n",
    "low = france['Salary'].quantile(0.25)\n",
    "high = france['Salary'].quantile(0.75)\n",
    "iqr = high-low\n",
    "\n",
    "percentile_1 = low - 1.5 * iqr\n",
    "percentile_3 = low + 1.5 * iqr\n",
    "france['Salary'] = france['Salary'].apply(lambda x: percentile_3 if x>percentile_3 else x)\n",
    "\n",
    "low = france['YearOfExperience'].quantile(0.25)\n",
    "high = france['YearOfExperience'].quantile(0.75)\n",
    "iqr = high-low\n",
    "\n",
    "percentile_1 = low - 1.5 * iqr\n",
    "percentile_3 = low + 1.5 * iqr\n",
    "france['YearOfExperience'] = france['YearOfExperience'].apply(lambda x: percentile_3 if x>percentile_3 else x)\n",
    "\n",
    "# Sweden\n",
    "\n",
    "low = sweden['Salary'].quantile(0.25)\n",
    "high = sweden['Salary'].quantile(0.75)\n",
    "iqr = high-low\n",
    "\n",
    "percentile_1 = low - 1.5 * iqr\n",
    "percentile_3 = low + 1.5 * iqr\n",
    "sweden['Salary'] = sweden['Salary'].apply(lambda x: percentile_3 if x>percentile_3 else x)\n",
    "sweden['Salary'] = sweden['Salary'].apply(lambda x: percentile_1 if x<percentile_1 else x)\n",
    "\n",
    "low = sweden['YearOfExperience'].quantile(0.25)\n",
    "high = sweden['YearOfExperience'].quantile(0.75)\n",
    "iqr = high-low\n",
    "\n",
    "percentile_1 = low - 1.5 * iqr\n",
    "percentile_3 = low + 1.5 * iqr\n",
    "sweden['YearOfExperience'] = sweden['YearOfExperience'].apply(lambda x: percentile_3 if x>percentile_3 else x)\n",
    "\n",
    "# Spain\n",
    "\n",
    "low = spain['Salary'].quantile(0.25)\n",
    "high = spain['Salary'].quantile(0.75)\n",
    "iqr = high-low\n",
    "\n",
    "percentile_1 = low - 1.5 * iqr\n",
    "percentile_3 = low + 1.5 * iqr\n",
    "spain['Salary'] = spain['Salary'].apply(lambda x: percentile_3 if x>percentile_3 else x)\n",
    "\n",
    "low = spain['YearOfExperience'].quantile(0.25)\n",
    "high = spain['YearOfExperience'].quantile(0.75)\n",
    "iqr = high-low\n",
    "\n",
    "percentile_1 = low - 1.5 * iqr\n",
    "percentile_3 = low + 1.5 * iqr\n",
    "spain['YearOfExperience'] = spain['YearOfExperience'].apply(lambda x: percentile_3 if x>percentile_3 else x)\n",
    "\n",
    "# Germany\n",
    "\n",
    "low = germany['Salary'].quantile(0.25)\n",
    "high = germany['Salary'].quantile(0.75)\n",
    "iqr = high-low\n",
    "\n",
    "percentile_1 = low - 1.5 * iqr\n",
    "percentile_3 = low + 1.5 * iqr\n",
    "germany['Salary'] = germany['Salary'].apply(lambda x: percentile_3 if x>percentile_3 else x)\n",
    "germany['Salary'] = germany['Salary'].apply(lambda x: percentile_1 if x<percentile_1 else x)\n",
    "\n",
    "low = germany['YearOfExperience'].quantile(0.25)\n",
    "high = germany['YearOfExperience'].quantile(0.75)\n",
    "iqr = high-low\n",
    "\n",
    "percentile_1 = low - 1.5 * iqr\n",
    "percentile_3 = low + 1.5 * iqr\n",
    "germany['YearOfExperience'] = germany['YearOfExperience'].apply(lambda x: percentile_3 if x>percentile_3 else x)\n",
    "\n",
    "# Turkey\n",
    "\n",
    "low = turkey['Salary'].quantile(0.25)\n",
    "high = turkey['Salary'].quantile(0.75)\n",
    "iqr = high-low\n",
    "\n",
    "percentile_1 = low - 1.5 * iqr\n",
    "percentile_3 = low + 1.5 * iqr\n",
    "turkey['Salary'] = turkey['Salary'].apply(lambda x: percentile_3 if x>percentile_3 else x)\n",
    "\n",
    "low = turkey['YearOfExperience'].quantile(0.25)\n",
    "high = turkey['YearOfExperience'].quantile(0.75)\n",
    "iqr = high-low\n",
    "\n",
    "percentile_1 = low - 1.5 * iqr\n",
    "percentile_3 = low + 1.5 * iqr\n",
    "turkey['YearOfExperience'] = turkey['YearOfExperience'].apply(lambda x: percentile_3 if x>percentile_3 else x)\n",
    "\n",
    "# Canada\n",
    "\n",
    "low = canada['Salary'].quantile(0.25)\n",
    "high = canada['Salary'].quantile(0.75)\n",
    "iqr = high-low\n",
    "\n",
    "percentile_1 = low - 1.5 * iqr\n",
    "percentile_3 = low + 1.5 * iqr\n",
    "canada['Salary'] = canada['Salary'].apply(lambda x: percentile_3 if x>percentile_3 else x)\n",
    "\n",
    "low = canada['YearOfExperience'].quantile(0.25)\n",
    "high = canada['YearOfExperience'].quantile(0.75)\n",
    "iqr = high-low\n",
    "\n",
    "percentile_1 = low - 1.5 * iqr\n",
    "percentile_3 = low + 1.5 * iqr\n",
    "canada['YearOfExperience'] = canada['YearOfExperience'].apply(lambda x: percentile_3 if x>percentile_3 else x)\n",
    "\n",
    "# Switzerland\n",
    "\n",
    "low = switzerland['Salary'].quantile(0.25)\n",
    "high = switzerland['Salary'].quantile(0.75)\n",
    "iqr = high-low\n",
    "\n",
    "percentile_1 = low - 1.5 * iqr\n",
    "percentile_3 = low + 1.5 * iqr\n",
    "switzerland['Salary'] = switzerland['Salary'].apply(lambda x: percentile_3 if x>percentile_3 else x)\n",
    "switzerland['Salary'] = switzerland['Salary'].apply(lambda x: percentile_1 if x<percentile_1 else x)\n",
    "\n",
    "low = switzerland['YearOfExperience'].quantile(0.25)\n",
    "high = switzerland['YearOfExperience'].quantile(0.75)\n",
    "iqr = high-low\n",
    "\n",
    "percentile_1 = low - 1.5 * iqr\n",
    "percentile_3 = low + 1.5 * iqr\n",
    "switzerland['YearOfExperience'] = switzerland['YearOfExperience'].apply(lambda x: percentile_3 if x>percentile_3 else x)\n",
    "\n",
    "# Italy\n",
    "\n",
    "low = italy['Salary'].quantile(0.25)\n",
    "high = italy['Salary'].quantile(0.75)\n",
    "iqr = high-low\n",
    "\n",
    "percentile_1 = low - 1.5 * iqr\n",
    "percentile_3 = low + 1.5 * iqr\n",
    "italy['Salary'] = italy['Salary'].apply(lambda x: percentile_3 if x>percentile_3 else x)\n",
    "\n",
    "low = italy['YearOfExperience'].quantile(0.25)\n",
    "high = italy['YearOfExperience'].quantile(0.75)\n",
    "iqr = high-low\n",
    "\n",
    "percentile_1 = low - 1.5 * iqr\n",
    "percentile_3 = low + 1.5 * iqr\n",
    "italy['YearOfExperience'] = italy['YearOfExperience'].apply(lambda x: percentile_3 if x>percentile_3 else x)\n",
    "\n",
    "# Netherlands\n",
    "\n",
    "low = netherlands['Salary'].quantile(0.25)\n",
    "high = netherlands['Salary'].quantile(0.75)\n",
    "iqr = high-low\n",
    "\n",
    "percentile_1 = low - 1.5 * iqr\n",
    "percentile_3 = low + 1.5 * iqr\n",
    "netherlands['Salary'] = netherlands['Salary'].apply(lambda x: percentile_3 if x>percentile_3 else x)\n",
    "\n",
    "low = netherlands['YearOfExperience'].quantile(0.25)\n",
    "high = netherlands['YearOfExperience'].quantile(0.75)\n",
    "iqr = high-low\n",
    "\n",
    "percentile_1 = low - 1.5 * iqr\n",
    "percentile_3 = low + 1.5 * iqr\n",
    "netherlands['YearOfExperience'] = netherlands['YearOfExperience'].apply(lambda x: percentile_3 if x>percentile_3 else x)\n",
    "\n",
    "# Poland\n",
    "\n",
    "low = poland['Salary'].quantile(0.25)\n",
    "high = poland['Salary'].quantile(0.75)\n",
    "iqr = high-low\n",
    "\n",
    "percentile_1 = low - 1.5 * iqr\n",
    "percentile_3 = low + 1.5 * iqr\n",
    "poland['Salary'] = poland['Salary'].apply(lambda x: percentile_3 if x>percentile_3 else x)\n",
    "\n",
    "low = poland['YearOfExperience'].quantile(0.25)\n",
    "high = poland['YearOfExperience'].quantile(0.75)\n",
    "iqr = high-low\n",
    "\n",
    "percentile_1 = low - 1.5 * iqr\n",
    "percentile_3 = low + 1.5 * iqr\n",
    "poland['YearOfExperience'] = poland['YearOfExperience'].apply(lambda x: percentile_3 if x>percentile_3 else x)\n",
    "\n",
    "# Australia\n",
    "\n",
    "low = australia['Salary'].quantile(0.25)\n",
    "high = australia['Salary'].quantile(0.75)\n",
    "iqr = high-low\n",
    "\n",
    "percentile_1 = low - 1.5 * iqr\n",
    "percentile_3 = low + 1.5 * iqr\n",
    "australia['Salary'] = australia['Salary'].apply(lambda x: percentile_3 if x>percentile_3 else x)\n",
    "\n",
    "low = australia['YearOfExperience'].quantile(0.25)\n",
    "high = australia['YearOfExperience'].quantile(0.75)\n",
    "iqr = high-low\n",
    "\n",
    "percentile_1 = low - 1.5 * iqr\n",
    "percentile_3 = low + 1.5 * iqr\n",
    "australia['YearOfExperience'] = australia['YearOfExperience'].apply(lambda x: percentile_3 if x>percentile_3 else x)\n",
    "\n",
    "# Norway\n",
    "\n",
    "low = norway['Salary'].quantile(0.25)\n",
    "high = norway['Salary'].quantile(0.75)\n",
    "iqr = high-low\n",
    "\n",
    "percentile_1 = low - 1.5 * iqr\n",
    "percentile_3 = low + 1.5 * iqr\n",
    "norway['Salary'] = norway['Salary'].apply(lambda x: percentile_3 if x>percentile_3 else x)\n",
    "norway['Salary'] = norway['Salary'].apply(lambda x: percentile_1 if x<percentile_1 else x)\n",
    "\n",
    "low = norway['YearOfExperience'].quantile(0.25)\n",
    "high = norway['YearOfExperience'].quantile(0.75)\n",
    "iqr = high-low\n",
    "\n",
    "percentile_1 = low - 1.5 * iqr\n",
    "percentile_3 = low + 1.5 * iqr\n",
    "norway['YearOfExperience'] = norway['YearOfExperience'].apply(lambda x: percentile_3 if x>percentile_3 else x)\n"
   ]
  },
  {
   "cell_type": "code",
   "execution_count": null,
   "id": "a837bd88",
   "metadata": {},
   "outputs": [],
   "source": [
    "# concate all dataframes and create new dataframe\n",
    "new_df = pd.concat([india,russia,italy,america,uk,brazil,norway,netherlands,poland,australia,israel,sweden,switzerland,france,canada,germany,turkey,spain],ignore_index=True)"
   ]
  },
  {
   "cell_type": "code",
   "execution_count": null,
   "id": "df39ffda",
   "metadata": {},
   "outputs": [],
   "source": [
    "new_df.head()"
   ]
  },
  {
   "cell_type": "code",
   "execution_count": null,
   "id": "4848cbd0",
   "metadata": {},
   "outputs": [],
   "source": [
    "# new dataframe shape\n",
    "new_df.shape"
   ]
  },
  {
   "cell_type": "code",
   "execution_count": null,
   "id": "f0933459",
   "metadata": {},
   "outputs": [],
   "source": [
    "# check outliers in year of experience column after cleaning\n",
    "plt.figure(figsize = (18,10))\n",
    "sns.boxplot(new_df.Country,new_df.YearOfExperience)\n",
    "plt.title('Year Of Experience Based On Country', fontsize = 25)\n",
    "plt.xlabel('Country', fontsize = 20)\n",
    "plt.xticks(rotation = 90, fontsize = 16)\n",
    "plt.ylabel('Year Of Experience', fontsize = 20)\n",
    "plt.yticks(fontsize = 16)\n",
    "plt.show()"
   ]
  },
  {
   "cell_type": "code",
   "execution_count": null,
   "id": "18fa8b70",
   "metadata": {},
   "outputs": [],
   "source": [
    "# check outliers in salary column after cleaning\n",
    "plt.figure(figsize = (18,7))\n",
    "sns.boxplot(new_df.Country,new_df.Salary)\n",
    "plt.title('Salary Based On Country', fontsize = 25)\n",
    "plt.xlabel('Country', fontsize = 20)\n",
    "plt.xticks(rotation = 90, fontsize = 16)\n",
    "plt.ylabel('Salary', fontsize = 20)\n",
    "plt.yticks(fontsize = 16)\n",
    "plt.show()"
   ]
  },
  {
   "cell_type": "code",
   "execution_count": null,
   "id": "6e24346c",
   "metadata": {},
   "outputs": [],
   "source": [
    "# drop employment column for better prediction\n",
    "new_df.drop('Employment', axis = 1, inplace=True)"
   ]
  },
  {
   "cell_type": "code",
   "execution_count": null,
   "id": "89f91333",
   "metadata": {},
   "outputs": [],
   "source": [
    "new_df.head()"
   ]
  },
  {
   "cell_type": "code",
   "execution_count": null,
   "id": "2dcb7a2b",
   "metadata": {},
   "outputs": [],
   "source": [
    "dfx = new_df.copy()"
   ]
  },
  {
   "cell_type": "code",
   "execution_count": null,
   "id": "2f7547c0",
   "metadata": {},
   "outputs": [],
   "source": [
    "from sklearn.preprocessing import LabelEncoder"
   ]
  },
  {
   "cell_type": "code",
   "execution_count": null,
   "id": "412d81b9",
   "metadata": {},
   "outputs": [],
   "source": [
    "le_country = LabelEncoder()\n",
    "dfx['Country'] = le_country.fit_transform(dfx['Country'])\n",
    "dfx['Country'].unique()"
   ]
  },
  {
   "cell_type": "code",
   "execution_count": null,
   "id": "6e04e954",
   "metadata": {},
   "outputs": [],
   "source": [
    "le_education = LabelEncoder()\n",
    "dfx['HighestEducation'] = le_education.fit_transform(dfx['HighestEducation'])\n",
    "dfx['HighestEducation'].unique()"
   ]
  },
  {
   "cell_type": "code",
   "execution_count": null,
   "id": "d360776e",
   "metadata": {},
   "outputs": [],
   "source": [
    "dfx.head()"
   ]
  },
  {
   "cell_type": "markdown",
   "id": "de2288a1",
   "metadata": {},
   "source": [
    "# Model Building"
   ]
  },
  {
   "cell_type": "code",
   "execution_count": null,
   "id": "9ba68c17",
   "metadata": {},
   "outputs": [],
   "source": [
    "# values assign in x and y\n",
    "X = dfx.drop('Salary', axis = 1)\n",
    "y = dfx['Salary']"
   ]
  },
  {
   "cell_type": "code",
   "execution_count": null,
   "id": "a768aa4a",
   "metadata": {},
   "outputs": [],
   "source": [
    "# import train test split for split data\n",
    "from sklearn.model_selection import train_test_split"
   ]
  },
  {
   "cell_type": "code",
   "execution_count": null,
   "id": "ba1f3e87",
   "metadata": {},
   "outputs": [],
   "source": [
    "# split train and test data\n",
    "X_train,X_test,y_train,y_test = train_test_split(X,y,test_size=0.2)"
   ]
  },
  {
   "cell_type": "code",
   "execution_count": null,
   "id": "4c75f8b5",
   "metadata": {},
   "outputs": [],
   "source": [
    "# import decision tree regressor for prediction\n",
    "from sklearn.tree import DecisionTreeRegressor"
   ]
  },
  {
   "cell_type": "markdown",
   "id": "814a9562",
   "metadata": {},
   "source": [
    "**Use Grid Search CV For Better Result**"
   ]
  },
  {
   "cell_type": "code",
   "execution_count": null,
   "id": "36a9e706",
   "metadata": {},
   "outputs": [],
   "source": [
    "# import grid search cv fro get best model\n",
    "from sklearn.model_selection import GridSearchCV"
   ]
  },
  {
   "cell_type": "code",
   "execution_count": null,
   "id": "a992ec3f",
   "metadata": {},
   "outputs": [],
   "source": [
    "# train our model by different different paramiters\n",
    "params = {'max_depth':[1,2,3,4,5,6,7,8,9,10,20,30]}\n",
    "dtr = DecisionTreeRegressor()\n",
    "gsc = GridSearchCV(dtr,params,scoring='neg_mean_squared_error')\n",
    "gsc.fit(X_train,y_train)"
   ]
  },
  {
   "cell_type": "code",
   "execution_count": null,
   "id": "5fc1682f",
   "metadata": {},
   "outputs": [],
   "source": [
    "# check best score and parameter of our model\n",
    "print('Best Parameters:', gsc.best_params_)\n",
    "print('Best Scores:', gsc.best_score_)"
   ]
  },
  {
   "cell_type": "code",
   "execution_count": null,
   "id": "c972e100",
   "metadata": {},
   "outputs": [],
   "source": [
    "# train our model with best estimator\n",
    "dttr = gsc.best_estimator_\n",
    "dttr.fit(X_train,y_train)"
   ]
  },
  {
   "cell_type": "code",
   "execution_count": null,
   "id": "0e3b3dd6",
   "metadata": {},
   "outputs": [],
   "source": [
    "# get prediction value\n",
    "y_pred = dttr.predict(X_test)"
   ]
  },
  {
   "cell_type": "code",
   "execution_count": null,
   "id": "cf9feb46",
   "metadata": {},
   "outputs": [],
   "source": [
    "# check accuracy of our model\n",
    "r2_score(y_test,y_pred)"
   ]
  },
  {
   "cell_type": "code",
   "execution_count": null,
   "id": "c7e5625f",
   "metadata": {},
   "outputs": [],
   "source": [
    "# check performance and accuracy by distplot\n",
    "sns.displot(y_pred-y_test,kind = 'kde')\n",
    "plt.show()"
   ]
  },
  {
   "cell_type": "code",
   "execution_count": null,
   "id": "b8d25cd6",
   "metadata": {},
   "outputs": [],
   "source": [
    "# check accuracy and performance of model by scatter plot\n",
    "sns.scatterplot(y_pred,y_test)\n",
    "plt.show()"
   ]
  },
  {
   "cell_type": "code",
   "execution_count": null,
   "id": "770c9bcc",
   "metadata": {},
   "outputs": [],
   "source": []
  }
 ],
 "metadata": {
  "kernelspec": {
   "display_name": "Python 3 (ipykernel)",
   "language": "python",
   "name": "python3"
  },
  "language_info": {
   "codemirror_mode": {
    "name": "ipython",
    "version": 3
   },
   "file_extension": ".py",
   "mimetype": "text/x-python",
   "name": "python",
   "nbconvert_exporter": "python",
   "pygments_lexer": "ipython3",
   "version": "3.9.7"
  }
 },
 "nbformat": 4,
 "nbformat_minor": 5
}
