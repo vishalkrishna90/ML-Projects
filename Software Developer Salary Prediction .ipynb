{
 "cells": [
  {
   "cell_type": "code",
   "execution_count": 1,
   "id": "884ab5ec",
   "metadata": {},
   "outputs": [],
   "source": [
    "# import important libraries\n",
    "import pandas as pd\n",
    "import numpy as np\n",
    "import seaborn as sns\n",
    "import matplotlib.pyplot as plt"
   ]
  },
  {
   "cell_type": "code",
   "execution_count": 2,
   "id": "29393dfb",
   "metadata": {},
   "outputs": [
    {
     "data": {
      "text/html": [
       "<div>\n",
       "<style scoped>\n",
       "    .dataframe tbody tr th:only-of-type {\n",
       "        vertical-align: middle;\n",
       "    }\n",
       "\n",
       "    .dataframe tbody tr th {\n",
       "        vertical-align: top;\n",
       "    }\n",
       "\n",
       "    .dataframe thead th {\n",
       "        text-align: right;\n",
       "    }\n",
       "</style>\n",
       "<table border=\"1\" class=\"dataframe\">\n",
       "  <thead>\n",
       "    <tr style=\"text-align: right;\">\n",
       "      <th></th>\n",
       "      <th>ResponseId</th>\n",
       "      <th>MainBranch</th>\n",
       "      <th>Employment</th>\n",
       "      <th>Country</th>\n",
       "      <th>US_State</th>\n",
       "      <th>UK_Country</th>\n",
       "      <th>EdLevel</th>\n",
       "      <th>Age1stCode</th>\n",
       "      <th>LearnCode</th>\n",
       "      <th>YearsCode</th>\n",
       "      <th>...</th>\n",
       "      <th>Age</th>\n",
       "      <th>Gender</th>\n",
       "      <th>Trans</th>\n",
       "      <th>Sexuality</th>\n",
       "      <th>Ethnicity</th>\n",
       "      <th>Accessibility</th>\n",
       "      <th>MentalHealth</th>\n",
       "      <th>SurveyLength</th>\n",
       "      <th>SurveyEase</th>\n",
       "      <th>ConvertedCompYearly</th>\n",
       "    </tr>\n",
       "  </thead>\n",
       "  <tbody>\n",
       "    <tr>\n",
       "      <th>0</th>\n",
       "      <td>1</td>\n",
       "      <td>I am a developer by profession</td>\n",
       "      <td>Independent contractor, freelancer, or self-em...</td>\n",
       "      <td>Slovakia</td>\n",
       "      <td>NaN</td>\n",
       "      <td>NaN</td>\n",
       "      <td>Secondary school (e.g. American high school, G...</td>\n",
       "      <td>18 - 24 years</td>\n",
       "      <td>Coding Bootcamp;Other online resources (ex: vi...</td>\n",
       "      <td>NaN</td>\n",
       "      <td>...</td>\n",
       "      <td>25-34 years old</td>\n",
       "      <td>Man</td>\n",
       "      <td>No</td>\n",
       "      <td>Straight / Heterosexual</td>\n",
       "      <td>White or of European descent</td>\n",
       "      <td>None of the above</td>\n",
       "      <td>None of the above</td>\n",
       "      <td>Appropriate in length</td>\n",
       "      <td>Easy</td>\n",
       "      <td>62268.0</td>\n",
       "    </tr>\n",
       "    <tr>\n",
       "      <th>1</th>\n",
       "      <td>2</td>\n",
       "      <td>I am a student who is learning to code</td>\n",
       "      <td>Student, full-time</td>\n",
       "      <td>Netherlands</td>\n",
       "      <td>NaN</td>\n",
       "      <td>NaN</td>\n",
       "      <td>Bachelor’s degree (B.A., B.S., B.Eng., etc.)</td>\n",
       "      <td>11 - 17 years</td>\n",
       "      <td>Other online resources (ex: videos, blogs, etc...</td>\n",
       "      <td>7</td>\n",
       "      <td>...</td>\n",
       "      <td>18-24 years old</td>\n",
       "      <td>Man</td>\n",
       "      <td>No</td>\n",
       "      <td>Straight / Heterosexual</td>\n",
       "      <td>White or of European descent</td>\n",
       "      <td>None of the above</td>\n",
       "      <td>None of the above</td>\n",
       "      <td>Appropriate in length</td>\n",
       "      <td>Easy</td>\n",
       "      <td>NaN</td>\n",
       "    </tr>\n",
       "    <tr>\n",
       "      <th>2</th>\n",
       "      <td>3</td>\n",
       "      <td>I am not primarily a developer, but I write co...</td>\n",
       "      <td>Student, full-time</td>\n",
       "      <td>Russian Federation</td>\n",
       "      <td>NaN</td>\n",
       "      <td>NaN</td>\n",
       "      <td>Bachelor’s degree (B.A., B.S., B.Eng., etc.)</td>\n",
       "      <td>11 - 17 years</td>\n",
       "      <td>Other online resources (ex: videos, blogs, etc...</td>\n",
       "      <td>NaN</td>\n",
       "      <td>...</td>\n",
       "      <td>18-24 years old</td>\n",
       "      <td>Man</td>\n",
       "      <td>No</td>\n",
       "      <td>Prefer not to say</td>\n",
       "      <td>Prefer not to say</td>\n",
       "      <td>None of the above</td>\n",
       "      <td>None of the above</td>\n",
       "      <td>Appropriate in length</td>\n",
       "      <td>Easy</td>\n",
       "      <td>NaN</td>\n",
       "    </tr>\n",
       "    <tr>\n",
       "      <th>3</th>\n",
       "      <td>4</td>\n",
       "      <td>I am a developer by profession</td>\n",
       "      <td>Employed full-time</td>\n",
       "      <td>Austria</td>\n",
       "      <td>NaN</td>\n",
       "      <td>NaN</td>\n",
       "      <td>Master’s degree (M.A., M.S., M.Eng., MBA, etc.)</td>\n",
       "      <td>11 - 17 years</td>\n",
       "      <td>NaN</td>\n",
       "      <td>NaN</td>\n",
       "      <td>...</td>\n",
       "      <td>35-44 years old</td>\n",
       "      <td>Man</td>\n",
       "      <td>No</td>\n",
       "      <td>Straight / Heterosexual</td>\n",
       "      <td>White or of European descent</td>\n",
       "      <td>I am deaf / hard of hearing</td>\n",
       "      <td>NaN</td>\n",
       "      <td>Appropriate in length</td>\n",
       "      <td>Neither easy nor difficult</td>\n",
       "      <td>NaN</td>\n",
       "    </tr>\n",
       "    <tr>\n",
       "      <th>4</th>\n",
       "      <td>5</td>\n",
       "      <td>I am a developer by profession</td>\n",
       "      <td>Independent contractor, freelancer, or self-em...</td>\n",
       "      <td>United Kingdom of Great Britain and Northern I...</td>\n",
       "      <td>NaN</td>\n",
       "      <td>England</td>\n",
       "      <td>Master’s degree (M.A., M.S., M.Eng., MBA, etc.)</td>\n",
       "      <td>5 - 10 years</td>\n",
       "      <td>Friend or family member</td>\n",
       "      <td>17</td>\n",
       "      <td>...</td>\n",
       "      <td>25-34 years old</td>\n",
       "      <td>Man</td>\n",
       "      <td>No</td>\n",
       "      <td>NaN</td>\n",
       "      <td>White or of European descent</td>\n",
       "      <td>None of the above</td>\n",
       "      <td>NaN</td>\n",
       "      <td>Appropriate in length</td>\n",
       "      <td>Easy</td>\n",
       "      <td>NaN</td>\n",
       "    </tr>\n",
       "  </tbody>\n",
       "</table>\n",
       "<p>5 rows × 48 columns</p>\n",
       "</div>"
      ],
      "text/plain": [
       "   ResponseId                                         MainBranch  \\\n",
       "0           1                     I am a developer by profession   \n",
       "1           2             I am a student who is learning to code   \n",
       "2           3  I am not primarily a developer, but I write co...   \n",
       "3           4                     I am a developer by profession   \n",
       "4           5                     I am a developer by profession   \n",
       "\n",
       "                                          Employment  \\\n",
       "0  Independent contractor, freelancer, or self-em...   \n",
       "1                                 Student, full-time   \n",
       "2                                 Student, full-time   \n",
       "3                                 Employed full-time   \n",
       "4  Independent contractor, freelancer, or self-em...   \n",
       "\n",
       "                                             Country US_State UK_Country  \\\n",
       "0                                           Slovakia      NaN        NaN   \n",
       "1                                        Netherlands      NaN        NaN   \n",
       "2                                 Russian Federation      NaN        NaN   \n",
       "3                                            Austria      NaN        NaN   \n",
       "4  United Kingdom of Great Britain and Northern I...      NaN    England   \n",
       "\n",
       "                                             EdLevel     Age1stCode  \\\n",
       "0  Secondary school (e.g. American high school, G...  18 - 24 years   \n",
       "1       Bachelor’s degree (B.A., B.S., B.Eng., etc.)  11 - 17 years   \n",
       "2       Bachelor’s degree (B.A., B.S., B.Eng., etc.)  11 - 17 years   \n",
       "3    Master’s degree (M.A., M.S., M.Eng., MBA, etc.)  11 - 17 years   \n",
       "4    Master’s degree (M.A., M.S., M.Eng., MBA, etc.)   5 - 10 years   \n",
       "\n",
       "                                           LearnCode YearsCode  ...  \\\n",
       "0  Coding Bootcamp;Other online resources (ex: vi...       NaN  ...   \n",
       "1  Other online resources (ex: videos, blogs, etc...         7  ...   \n",
       "2  Other online resources (ex: videos, blogs, etc...       NaN  ...   \n",
       "3                                                NaN       NaN  ...   \n",
       "4                            Friend or family member        17  ...   \n",
       "\n",
       "               Age Gender Trans                Sexuality  \\\n",
       "0  25-34 years old    Man    No  Straight / Heterosexual   \n",
       "1  18-24 years old    Man    No  Straight / Heterosexual   \n",
       "2  18-24 years old    Man    No        Prefer not to say   \n",
       "3  35-44 years old    Man    No  Straight / Heterosexual   \n",
       "4  25-34 years old    Man    No                      NaN   \n",
       "\n",
       "                      Ethnicity                Accessibility  \\\n",
       "0  White or of European descent            None of the above   \n",
       "1  White or of European descent            None of the above   \n",
       "2             Prefer not to say            None of the above   \n",
       "3  White or of European descent  I am deaf / hard of hearing   \n",
       "4  White or of European descent            None of the above   \n",
       "\n",
       "        MentalHealth           SurveyLength                  SurveyEase  \\\n",
       "0  None of the above  Appropriate in length                        Easy   \n",
       "1  None of the above  Appropriate in length                        Easy   \n",
       "2  None of the above  Appropriate in length                        Easy   \n",
       "3                NaN  Appropriate in length  Neither easy nor difficult   \n",
       "4                NaN  Appropriate in length                        Easy   \n",
       "\n",
       "  ConvertedCompYearly  \n",
       "0             62268.0  \n",
       "1                 NaN  \n",
       "2                 NaN  \n",
       "3                 NaN  \n",
       "4                 NaN  \n",
       "\n",
       "[5 rows x 48 columns]"
      ]
     },
     "execution_count": 2,
     "metadata": {},
     "output_type": "execute_result"
    }
   ],
   "source": [
    "# import dataset from external storage\n",
    "df = pd.read_csv('survey_results_public.csv')\n",
    "df.head()"
   ]
  },
  {
   "cell_type": "code",
   "execution_count": 3,
   "id": "0ff3705b",
   "metadata": {},
   "outputs": [
    {
     "data": {
      "text/plain": [
       "(83439, 48)"
      ]
     },
     "execution_count": 3,
     "metadata": {},
     "output_type": "execute_result"
    }
   ],
   "source": [
    "# check shape of dataframe\n",
    "df.shape"
   ]
  },
  {
   "cell_type": "code",
   "execution_count": 4,
   "id": "217d5b70",
   "metadata": {},
   "outputs": [
    {
     "name": "stderr",
     "output_type": "stream",
     "text": [
      "C:\\Users\\mridh\\anaconda3\\lib\\site-packages\\pandas\\core\\frame.py:5039: SettingWithCopyWarning: \n",
      "A value is trying to be set on a copy of a slice from a DataFrame\n",
      "\n",
      "See the caveats in the documentation: https://pandas.pydata.org/pandas-docs/stable/user_guide/indexing.html#returning-a-view-versus-a-copy\n",
      "  return super().rename(\n"
     ]
    },
    {
     "data": {
      "text/html": [
       "<div>\n",
       "<style scoped>\n",
       "    .dataframe tbody tr th:only-of-type {\n",
       "        vertical-align: middle;\n",
       "    }\n",
       "\n",
       "    .dataframe tbody tr th {\n",
       "        vertical-align: top;\n",
       "    }\n",
       "\n",
       "    .dataframe thead th {\n",
       "        text-align: right;\n",
       "    }\n",
       "</style>\n",
       "<table border=\"1\" class=\"dataframe\">\n",
       "  <thead>\n",
       "    <tr style=\"text-align: right;\">\n",
       "      <th></th>\n",
       "      <th>Employment</th>\n",
       "      <th>Country</th>\n",
       "      <th>HighestEducation</th>\n",
       "      <th>YearOfExperience</th>\n",
       "      <th>Salary</th>\n",
       "    </tr>\n",
       "  </thead>\n",
       "  <tbody>\n",
       "    <tr>\n",
       "      <th>0</th>\n",
       "      <td>Independent contractor, freelancer, or self-em...</td>\n",
       "      <td>Slovakia</td>\n",
       "      <td>Secondary school (e.g. American high school, G...</td>\n",
       "      <td>NaN</td>\n",
       "      <td>62268.0</td>\n",
       "    </tr>\n",
       "    <tr>\n",
       "      <th>1</th>\n",
       "      <td>Student, full-time</td>\n",
       "      <td>Netherlands</td>\n",
       "      <td>Bachelor’s degree (B.A., B.S., B.Eng., etc.)</td>\n",
       "      <td>NaN</td>\n",
       "      <td>NaN</td>\n",
       "    </tr>\n",
       "    <tr>\n",
       "      <th>2</th>\n",
       "      <td>Student, full-time</td>\n",
       "      <td>Russian Federation</td>\n",
       "      <td>Bachelor’s degree (B.A., B.S., B.Eng., etc.)</td>\n",
       "      <td>NaN</td>\n",
       "      <td>NaN</td>\n",
       "    </tr>\n",
       "    <tr>\n",
       "      <th>3</th>\n",
       "      <td>Employed full-time</td>\n",
       "      <td>Austria</td>\n",
       "      <td>Master’s degree (M.A., M.S., M.Eng., MBA, etc.)</td>\n",
       "      <td>NaN</td>\n",
       "      <td>NaN</td>\n",
       "    </tr>\n",
       "    <tr>\n",
       "      <th>4</th>\n",
       "      <td>Independent contractor, freelancer, or self-em...</td>\n",
       "      <td>United Kingdom of Great Britain and Northern I...</td>\n",
       "      <td>Master’s degree (M.A., M.S., M.Eng., MBA, etc.)</td>\n",
       "      <td>10</td>\n",
       "      <td>NaN</td>\n",
       "    </tr>\n",
       "  </tbody>\n",
       "</table>\n",
       "</div>"
      ],
      "text/plain": [
       "                                          Employment  \\\n",
       "0  Independent contractor, freelancer, or self-em...   \n",
       "1                                 Student, full-time   \n",
       "2                                 Student, full-time   \n",
       "3                                 Employed full-time   \n",
       "4  Independent contractor, freelancer, or self-em...   \n",
       "\n",
       "                                             Country  \\\n",
       "0                                           Slovakia   \n",
       "1                                        Netherlands   \n",
       "2                                 Russian Federation   \n",
       "3                                            Austria   \n",
       "4  United Kingdom of Great Britain and Northern I...   \n",
       "\n",
       "                                    HighestEducation YearOfExperience   Salary  \n",
       "0  Secondary school (e.g. American high school, G...              NaN  62268.0  \n",
       "1       Bachelor’s degree (B.A., B.S., B.Eng., etc.)              NaN      NaN  \n",
       "2       Bachelor’s degree (B.A., B.S., B.Eng., etc.)              NaN      NaN  \n",
       "3    Master’s degree (M.A., M.S., M.Eng., MBA, etc.)              NaN      NaN  \n",
       "4    Master’s degree (M.A., M.S., M.Eng., MBA, etc.)               10      NaN  "
      ]
     },
     "execution_count": 4,
     "metadata": {},
     "output_type": "execute_result"
    }
   ],
   "source": [
    "# select only important columns for better prediction\n",
    "df2 = df[['Employment', 'Country', 'EdLevel', 'YearsCodePro', 'ConvertedCompYearly']]\n",
    "df2.rename({'ConvertedCompYearly':'Salary', 'YearsCodePro':'YearOfExperience', 'EdLevel':'HighestEducation'}, axis = 1, inplace=True)\n",
    "df2.head()"
   ]
  },
  {
   "cell_type": "markdown",
   "id": "ed7a8114",
   "metadata": {},
   "source": [
    "# Data Cleaning"
   ]
  },
  {
   "cell_type": "code",
   "execution_count": 5,
   "id": "a91ca1d9",
   "metadata": {},
   "outputs": [
    {
     "data": {
      "text/html": [
       "<div>\n",
       "<style scoped>\n",
       "    .dataframe tbody tr th:only-of-type {\n",
       "        vertical-align: middle;\n",
       "    }\n",
       "\n",
       "    .dataframe tbody tr th {\n",
       "        vertical-align: top;\n",
       "    }\n",
       "\n",
       "    .dataframe thead th {\n",
       "        text-align: right;\n",
       "    }\n",
       "</style>\n",
       "<table border=\"1\" class=\"dataframe\">\n",
       "  <thead>\n",
       "    <tr style=\"text-align: right;\">\n",
       "      <th></th>\n",
       "      <th>Employment</th>\n",
       "      <th>Country</th>\n",
       "      <th>HighestEducation</th>\n",
       "      <th>YearOfExperience</th>\n",
       "      <th>Salary</th>\n",
       "    </tr>\n",
       "  </thead>\n",
       "  <tbody>\n",
       "    <tr>\n",
       "      <th>0</th>\n",
       "      <td>Independent contractor, freelancer, or self-em...</td>\n",
       "      <td>Slovakia</td>\n",
       "      <td>Secondary school (e.g. American high school, G...</td>\n",
       "      <td>NaN</td>\n",
       "      <td>62268.0</td>\n",
       "    </tr>\n",
       "    <tr>\n",
       "      <th>9</th>\n",
       "      <td>Employed full-time</td>\n",
       "      <td>Sweden</td>\n",
       "      <td>Master’s degree (M.A., M.S., M.Eng., MBA, etc.)</td>\n",
       "      <td>4</td>\n",
       "      <td>51552.0</td>\n",
       "    </tr>\n",
       "    <tr>\n",
       "      <th>11</th>\n",
       "      <td>Employed full-time</td>\n",
       "      <td>Spain</td>\n",
       "      <td>Bachelor’s degree (B.A., B.S., B.Eng., etc.)</td>\n",
       "      <td>5</td>\n",
       "      <td>46482.0</td>\n",
       "    </tr>\n",
       "    <tr>\n",
       "      <th>12</th>\n",
       "      <td>Employed full-time</td>\n",
       "      <td>Germany</td>\n",
       "      <td>Master’s degree (M.A., M.S., M.Eng., MBA, etc.)</td>\n",
       "      <td>6</td>\n",
       "      <td>77290.0</td>\n",
       "    </tr>\n",
       "    <tr>\n",
       "      <th>16</th>\n",
       "      <td>Employed full-time</td>\n",
       "      <td>Turkey</td>\n",
       "      <td>Bachelor’s degree (B.A., B.S., B.Eng., etc.)</td>\n",
       "      <td>2</td>\n",
       "      <td>17748.0</td>\n",
       "    </tr>\n",
       "  </tbody>\n",
       "</table>\n",
       "</div>"
      ],
      "text/plain": [
       "                                           Employment   Country  \\\n",
       "0   Independent contractor, freelancer, or self-em...  Slovakia   \n",
       "9                                  Employed full-time    Sweden   \n",
       "11                                 Employed full-time     Spain   \n",
       "12                                 Employed full-time   Germany   \n",
       "16                                 Employed full-time    Turkey   \n",
       "\n",
       "                                     HighestEducation YearOfExperience  \\\n",
       "0   Secondary school (e.g. American high school, G...              NaN   \n",
       "9     Master’s degree (M.A., M.S., M.Eng., MBA, etc.)                4   \n",
       "11       Bachelor’s degree (B.A., B.S., B.Eng., etc.)                5   \n",
       "12    Master’s degree (M.A., M.S., M.Eng., MBA, etc.)                6   \n",
       "16       Bachelor’s degree (B.A., B.S., B.Eng., etc.)                2   \n",
       "\n",
       "     Salary  \n",
       "0   62268.0  \n",
       "9   51552.0  \n",
       "11  46482.0  \n",
       "12  77290.0  \n",
       "16  17748.0  "
      ]
     },
     "execution_count": 5,
     "metadata": {},
     "output_type": "execute_result"
    }
   ],
   "source": [
    "# removeing null values from salary column\n",
    "df2 = df2[df2['Salary'].notnull()]\n",
    "df2.head()"
   ]
  },
  {
   "cell_type": "code",
   "execution_count": 6,
   "id": "1ba61b33",
   "metadata": {},
   "outputs": [
    {
     "data": {
      "text/plain": [
       "Employment           13\n",
       "Country               0\n",
       "HighestEducation     21\n",
       "YearOfExperience    453\n",
       "Salary                0\n",
       "dtype: int64"
      ]
     },
     "execution_count": 6,
     "metadata": {},
     "output_type": "execute_result"
    }
   ],
   "source": [
    "# find null values in dataframe\n",
    "df2.isnull().sum()"
   ]
  },
  {
   "cell_type": "code",
   "execution_count": 7,
   "id": "bc21e976",
   "metadata": {},
   "outputs": [],
   "source": [
    "# remove all null values from dataframe\n",
    "df2.dropna(inplace=True)"
   ]
  },
  {
   "cell_type": "code",
   "execution_count": 8,
   "id": "1fec3852",
   "metadata": {},
   "outputs": [
    {
     "data": {
      "text/plain": [
       "Employment          0\n",
       "Country             0\n",
       "HighestEducation    0\n",
       "YearOfExperience    0\n",
       "Salary              0\n",
       "dtype: int64"
      ]
     },
     "execution_count": 8,
     "metadata": {},
     "output_type": "execute_result"
    }
   ],
   "source": [
    "# check null values after cleaning\n",
    "df2.isnull().sum()"
   ]
  },
  {
   "cell_type": "code",
   "execution_count": 9,
   "id": "c068bdd1",
   "metadata": {},
   "outputs": [
    {
     "data": {
      "text/html": [
       "<div>\n",
       "<style scoped>\n",
       "    .dataframe tbody tr th:only-of-type {\n",
       "        vertical-align: middle;\n",
       "    }\n",
       "\n",
       "    .dataframe tbody tr th {\n",
       "        vertical-align: top;\n",
       "    }\n",
       "\n",
       "    .dataframe thead th {\n",
       "        text-align: right;\n",
       "    }\n",
       "</style>\n",
       "<table border=\"1\" class=\"dataframe\">\n",
       "  <thead>\n",
       "    <tr style=\"text-align: right;\">\n",
       "      <th></th>\n",
       "      <th>Employment</th>\n",
       "      <th>Country</th>\n",
       "      <th>HighestEducation</th>\n",
       "      <th>YearOfExperience</th>\n",
       "      <th>Salary</th>\n",
       "    </tr>\n",
       "  </thead>\n",
       "  <tbody>\n",
       "    <tr>\n",
       "      <th>9</th>\n",
       "      <td>Employed full-time</td>\n",
       "      <td>Sweden</td>\n",
       "      <td>Master’s degree (M.A., M.S., M.Eng., MBA, etc.)</td>\n",
       "      <td>4</td>\n",
       "      <td>51552.0</td>\n",
       "    </tr>\n",
       "    <tr>\n",
       "      <th>11</th>\n",
       "      <td>Employed full-time</td>\n",
       "      <td>Spain</td>\n",
       "      <td>Bachelor’s degree (B.A., B.S., B.Eng., etc.)</td>\n",
       "      <td>5</td>\n",
       "      <td>46482.0</td>\n",
       "    </tr>\n",
       "    <tr>\n",
       "      <th>12</th>\n",
       "      <td>Employed full-time</td>\n",
       "      <td>Germany</td>\n",
       "      <td>Master’s degree (M.A., M.S., M.Eng., MBA, etc.)</td>\n",
       "      <td>6</td>\n",
       "      <td>77290.0</td>\n",
       "    </tr>\n",
       "    <tr>\n",
       "      <th>16</th>\n",
       "      <td>Employed full-time</td>\n",
       "      <td>Turkey</td>\n",
       "      <td>Bachelor’s degree (B.A., B.S., B.Eng., etc.)</td>\n",
       "      <td>2</td>\n",
       "      <td>17748.0</td>\n",
       "    </tr>\n",
       "    <tr>\n",
       "      <th>17</th>\n",
       "      <td>Employed full-time</td>\n",
       "      <td>Canada</td>\n",
       "      <td>Bachelor’s degree (B.A., B.S., B.Eng., etc.)</td>\n",
       "      <td>6</td>\n",
       "      <td>46135.0</td>\n",
       "    </tr>\n",
       "  </tbody>\n",
       "</table>\n",
       "</div>"
      ],
      "text/plain": [
       "            Employment  Country  \\\n",
       "9   Employed full-time   Sweden   \n",
       "11  Employed full-time    Spain   \n",
       "12  Employed full-time  Germany   \n",
       "16  Employed full-time   Turkey   \n",
       "17  Employed full-time   Canada   \n",
       "\n",
       "                                   HighestEducation YearOfExperience   Salary  \n",
       "9   Master’s degree (M.A., M.S., M.Eng., MBA, etc.)                4  51552.0  \n",
       "11     Bachelor’s degree (B.A., B.S., B.Eng., etc.)                5  46482.0  \n",
       "12  Master’s degree (M.A., M.S., M.Eng., MBA, etc.)                6  77290.0  \n",
       "16     Bachelor’s degree (B.A., B.S., B.Eng., etc.)                2  17748.0  \n",
       "17     Bachelor’s degree (B.A., B.S., B.Eng., etc.)                6  46135.0  "
      ]
     },
     "execution_count": 9,
     "metadata": {},
     "output_type": "execute_result"
    }
   ],
   "source": [
    "# only select those data where employment is full time\n",
    "df2 = df2[df2['Employment']== 'Employed full-time']\n",
    "df2.head()"
   ]
  },
  {
   "cell_type": "code",
   "execution_count": 10,
   "id": "7e26c0e1",
   "metadata": {},
   "outputs": [
    {
     "data": {
      "text/plain": [
       "(40211, 5)"
      ]
     },
     "execution_count": 10,
     "metadata": {},
     "output_type": "execute_result"
    }
   ],
   "source": [
    "# new data frame shape\n",
    "df2.shape"
   ]
  },
  {
   "cell_type": "code",
   "execution_count": 11,
   "id": "552d0ac6",
   "metadata": {},
   "outputs": [
    {
     "data": {
      "text/plain": [
       "United States of America                                9175\n",
       "India                                                   3385\n",
       "Germany                                                 2753\n",
       "United Kingdom of Great Britain and Northern Ireland    2604\n",
       "Canada                                                  1553\n",
       "                                                        ... \n",
       "Saint Kitts and Nevis                                      1\n",
       "Monaco                                                     1\n",
       "Libyan Arab Jamahiriya                                     1\n",
       "Somalia                                                    1\n",
       "Burundi                                                    1\n",
       "Name: Country, Length: 166, dtype: int64"
      ]
     },
     "execution_count": 11,
     "metadata": {},
     "output_type": "execute_result"
    }
   ],
   "source": [
    "# check values in country column\n",
    "country = df2['Country'].value_counts()\n",
    "country"
   ]
  },
  {
   "cell_type": "code",
   "execution_count": 12,
   "id": "3a04cb27",
   "metadata": {},
   "outputs": [
    {
     "data": {
      "text/plain": [
       "Mexico                          382\n",
       "Ukraine                         381\n",
       "Iran, Islamic Republic of...    348\n",
       "Denmark                         347\n",
       "Belgium                         346\n",
       "                               ... \n",
       "Saint Kitts and Nevis             1\n",
       "Monaco                            1\n",
       "Libyan Arab Jamahiriya            1\n",
       "Somalia                           1\n",
       "Burundi                           1\n",
       "Name: Country, Length: 148, dtype: int64"
      ]
     },
     "execution_count": 12,
     "metadata": {},
     "output_type": "execute_result"
    }
   ],
   "source": [
    "# country whose count is below then 400 asign them into new variable\n",
    "lessThen400 = country[country<400]\n",
    "lessThen400"
   ]
  },
  {
   "cell_type": "code",
   "execution_count": 13,
   "id": "0d48294b",
   "metadata": {},
   "outputs": [],
   "source": [
    "# country whose count is below then 400, convert them into others\n",
    "df2['Country'] = df2['Country'].apply(lambda x: 'Others' if x in lessThen400 else x)"
   ]
  },
  {
   "cell_type": "code",
   "execution_count": 14,
   "id": "b314a24e",
   "metadata": {},
   "outputs": [
    {
     "data": {
      "text/plain": [
       "Others                                                  10725\n",
       "United States of America                                 9175\n",
       "India                                                    3385\n",
       "Germany                                                  2753\n",
       "United Kingdom of Great Britain and Northern Ireland     2604\n",
       "Canada                                                   1553\n",
       "France                                                   1396\n",
       "Brazil                                                   1340\n",
       "Spain                                                     890\n",
       "Netherlands                                               835\n",
       "Australia                                                 825\n",
       "Poland                                                    775\n",
       "Italy                                                     756\n",
       "Russian Federation                                        741\n",
       "Sweden                                                    735\n",
       "Turkey                                                    458\n",
       "Switzerland                                               438\n",
       "Israel                                                    425\n",
       "Norway                                                    402\n",
       "Name: Country, dtype: int64"
      ]
     },
     "execution_count": 14,
     "metadata": {},
     "output_type": "execute_result"
    }
   ],
   "source": [
    "# country values count after converting\n",
    "df2.Country.value_counts()"
   ]
  },
  {
   "cell_type": "code",
   "execution_count": 15,
   "id": "e44e59cb",
   "metadata": {},
   "outputs": [
    {
     "data": {
      "text/html": [
       "<div>\n",
       "<style scoped>\n",
       "    .dataframe tbody tr th:only-of-type {\n",
       "        vertical-align: middle;\n",
       "    }\n",
       "\n",
       "    .dataframe tbody tr th {\n",
       "        vertical-align: top;\n",
       "    }\n",
       "\n",
       "    .dataframe thead th {\n",
       "        text-align: right;\n",
       "    }\n",
       "</style>\n",
       "<table border=\"1\" class=\"dataframe\">\n",
       "  <thead>\n",
       "    <tr style=\"text-align: right;\">\n",
       "      <th></th>\n",
       "      <th>Employment</th>\n",
       "      <th>Country</th>\n",
       "      <th>HighestEducation</th>\n",
       "      <th>YearOfExperience</th>\n",
       "      <th>Salary</th>\n",
       "    </tr>\n",
       "  </thead>\n",
       "  <tbody>\n",
       "    <tr>\n",
       "      <th>9</th>\n",
       "      <td>Employed full-time</td>\n",
       "      <td>Sweden</td>\n",
       "      <td>Master’s degree (M.A., M.S., M.Eng., MBA, etc.)</td>\n",
       "      <td>4</td>\n",
       "      <td>51552.0</td>\n",
       "    </tr>\n",
       "    <tr>\n",
       "      <th>11</th>\n",
       "      <td>Employed full-time</td>\n",
       "      <td>Spain</td>\n",
       "      <td>Bachelor’s degree (B.A., B.S., B.Eng., etc.)</td>\n",
       "      <td>5</td>\n",
       "      <td>46482.0</td>\n",
       "    </tr>\n",
       "    <tr>\n",
       "      <th>12</th>\n",
       "      <td>Employed full-time</td>\n",
       "      <td>Germany</td>\n",
       "      <td>Master’s degree (M.A., M.S., M.Eng., MBA, etc.)</td>\n",
       "      <td>6</td>\n",
       "      <td>77290.0</td>\n",
       "    </tr>\n",
       "    <tr>\n",
       "      <th>16</th>\n",
       "      <td>Employed full-time</td>\n",
       "      <td>Turkey</td>\n",
       "      <td>Bachelor’s degree (B.A., B.S., B.Eng., etc.)</td>\n",
       "      <td>2</td>\n",
       "      <td>17748.0</td>\n",
       "    </tr>\n",
       "    <tr>\n",
       "      <th>17</th>\n",
       "      <td>Employed full-time</td>\n",
       "      <td>Canada</td>\n",
       "      <td>Bachelor’s degree (B.A., B.S., B.Eng., etc.)</td>\n",
       "      <td>6</td>\n",
       "      <td>46135.0</td>\n",
       "    </tr>\n",
       "    <tr>\n",
       "      <th>...</th>\n",
       "      <td>...</td>\n",
       "      <td>...</td>\n",
       "      <td>...</td>\n",
       "      <td>...</td>\n",
       "      <td>...</td>\n",
       "    </tr>\n",
       "    <tr>\n",
       "      <th>83432</th>\n",
       "      <td>Employed full-time</td>\n",
       "      <td>Canada</td>\n",
       "      <td>Bachelor’s degree (B.A., B.S., B.Eng., etc.)</td>\n",
       "      <td>Less than 1 year</td>\n",
       "      <td>80169.0</td>\n",
       "    </tr>\n",
       "    <tr>\n",
       "      <th>83434</th>\n",
       "      <td>Employed full-time</td>\n",
       "      <td>United States of America</td>\n",
       "      <td>Bachelor’s degree (B.A., B.S., B.Eng., etc.)</td>\n",
       "      <td>5</td>\n",
       "      <td>160500.0</td>\n",
       "    </tr>\n",
       "    <tr>\n",
       "      <th>83436</th>\n",
       "      <td>Employed full-time</td>\n",
       "      <td>United States of America</td>\n",
       "      <td>Secondary school (e.g. American high school, G...</td>\n",
       "      <td>4</td>\n",
       "      <td>90000.0</td>\n",
       "    </tr>\n",
       "    <tr>\n",
       "      <th>83437</th>\n",
       "      <td>Employed full-time</td>\n",
       "      <td>Canada</td>\n",
       "      <td>Bachelor’s degree (B.A., B.S., B.Eng., etc.)</td>\n",
       "      <td>3</td>\n",
       "      <td>816816.0</td>\n",
       "    </tr>\n",
       "    <tr>\n",
       "      <th>83438</th>\n",
       "      <td>Employed full-time</td>\n",
       "      <td>Brazil</td>\n",
       "      <td>Professional degree (JD, MD, etc.)</td>\n",
       "      <td>4</td>\n",
       "      <td>21168.0</td>\n",
       "    </tr>\n",
       "  </tbody>\n",
       "</table>\n",
       "<p>29486 rows × 5 columns</p>\n",
       "</div>"
      ],
      "text/plain": [
       "               Employment                   Country  \\\n",
       "9      Employed full-time                    Sweden   \n",
       "11     Employed full-time                     Spain   \n",
       "12     Employed full-time                   Germany   \n",
       "16     Employed full-time                    Turkey   \n",
       "17     Employed full-time                    Canada   \n",
       "...                   ...                       ...   \n",
       "83432  Employed full-time                    Canada   \n",
       "83434  Employed full-time  United States of America   \n",
       "83436  Employed full-time  United States of America   \n",
       "83437  Employed full-time                    Canada   \n",
       "83438  Employed full-time                    Brazil   \n",
       "\n",
       "                                        HighestEducation  YearOfExperience  \\\n",
       "9        Master’s degree (M.A., M.S., M.Eng., MBA, etc.)                 4   \n",
       "11          Bachelor’s degree (B.A., B.S., B.Eng., etc.)                 5   \n",
       "12       Master’s degree (M.A., M.S., M.Eng., MBA, etc.)                 6   \n",
       "16          Bachelor’s degree (B.A., B.S., B.Eng., etc.)                 2   \n",
       "17          Bachelor’s degree (B.A., B.S., B.Eng., etc.)                 6   \n",
       "...                                                  ...               ...   \n",
       "83432       Bachelor’s degree (B.A., B.S., B.Eng., etc.)  Less than 1 year   \n",
       "83434       Bachelor’s degree (B.A., B.S., B.Eng., etc.)                 5   \n",
       "83436  Secondary school (e.g. American high school, G...                 4   \n",
       "83437       Bachelor’s degree (B.A., B.S., B.Eng., etc.)                 3   \n",
       "83438                 Professional degree (JD, MD, etc.)                 4   \n",
       "\n",
       "         Salary  \n",
       "9       51552.0  \n",
       "11      46482.0  \n",
       "12      77290.0  \n",
       "16      17748.0  \n",
       "17      46135.0  \n",
       "...         ...  \n",
       "83432   80169.0  \n",
       "83434  160500.0  \n",
       "83436   90000.0  \n",
       "83437  816816.0  \n",
       "83438   21168.0  \n",
       "\n",
       "[29486 rows x 5 columns]"
      ]
     },
     "execution_count": 15,
     "metadata": {},
     "output_type": "execute_result"
    }
   ],
   "source": [
    "# remove those data where country is others\n",
    "df2 = df2[df2['Country'] != 'Others']\n",
    "df2"
   ]
  },
  {
   "cell_type": "code",
   "execution_count": 16,
   "id": "de4281fa",
   "metadata": {},
   "outputs": [
    {
     "data": {
      "text/plain": [
       "United States of America                                9175\n",
       "India                                                   3385\n",
       "Germany                                                 2753\n",
       "United Kingdom of Great Britain and Northern Ireland    2604\n",
       "Canada                                                  1553\n",
       "France                                                  1396\n",
       "Brazil                                                  1340\n",
       "Spain                                                    890\n",
       "Netherlands                                              835\n",
       "Australia                                                825\n",
       "Poland                                                   775\n",
       "Italy                                                    756\n",
       "Russian Federation                                       741\n",
       "Sweden                                                   735\n",
       "Turkey                                                   458\n",
       "Switzerland                                              438\n",
       "Israel                                                   425\n",
       "Norway                                                   402\n",
       "Name: Country, dtype: int64"
      ]
     },
     "execution_count": 16,
     "metadata": {},
     "output_type": "execute_result"
    }
   ],
   "source": [
    "# country values counts after remove others data\n",
    "df2['Country'].value_counts()"
   ]
  },
  {
   "cell_type": "markdown",
   "id": "4bf11741",
   "metadata": {},
   "source": [
    "**Some Country Name Is Very Big So First We Have To Replace Them With Small Name**"
   ]
  },
  {
   "cell_type": "code",
   "execution_count": 17,
   "id": "cb7311d3",
   "metadata": {},
   "outputs": [],
   "source": [
    "# rename countries whose name is very big\n",
    "df2.Country.replace('United Kingdom of Great Britain and Northern Ireland', 'Uk',inplace=True )\n",
    "df2.Country.replace('United States of America', 'America',inplace=True )\n",
    "df2.Country.replace('Russian Federation', 'Russia',inplace=True )"
   ]
  },
  {
   "cell_type": "code",
   "execution_count": 18,
   "id": "3b70b5ad",
   "metadata": {},
   "outputs": [
    {
     "data": {
      "text/plain": [
       "array(['Sweden', 'Spain', 'Germany', 'Turkey', 'Canada', 'France',\n",
       "       'Switzerland', 'Uk', 'Russia', 'Israel', 'America', 'Brazil',\n",
       "       'Italy', 'Netherlands', 'Poland', 'India', 'Australia', 'Norway'],\n",
       "      dtype=object)"
      ]
     },
     "execution_count": 18,
     "metadata": {},
     "output_type": "execute_result"
    }
   ],
   "source": [
    "# check unique values in country column\n",
    "df2.Country.unique()"
   ]
  },
  {
   "cell_type": "code",
   "execution_count": 19,
   "id": "54af50f8",
   "metadata": {},
   "outputs": [
    {
     "data": {
      "text/plain": [
       "Bachelor’s degree (B.A., B.S., B.Eng., etc.)                                          14516\n",
       "Master’s degree (M.A., M.S., M.Eng., MBA, etc.)                                        7644\n",
       "Some college/university study without earning a degree                                 3252\n",
       "Other doctoral degree (Ph.D., Ed.D., etc.)                                             1242\n",
       "Secondary school (e.g. American high school, German Realschule or Gymnasium, etc.)     1087\n",
       "Associate degree (A.A., A.S., etc.)                                                     935\n",
       "Professional degree (JD, MD, etc.)                                                      397\n",
       "Something else                                                                          308\n",
       "Primary/elementary school                                                               105\n",
       "Name: HighestEducation, dtype: int64"
      ]
     },
     "execution_count": 19,
     "metadata": {},
     "output_type": "execute_result"
    }
   ],
   "source": [
    "# check values count of highest education column\n",
    "df2.HighestEducation.value_counts()"
   ]
  },
  {
   "cell_type": "code",
   "execution_count": 20,
   "id": "316baa8d",
   "metadata": {},
   "outputs": [],
   "source": [
    "# create a function to replace highest education column data\n",
    "def change_education(x):\n",
    "    if x == 'Bachelor’s degree (B.A., B.S., B.Eng., etc.)':\n",
    "        return \"Bachelor's Degree\"\n",
    "    elif x == 'Master’s degree (M.A., M.S., M.Eng., MBA, etc.)':\n",
    "        return \"Master’s Degree\"\n",
    "    elif x == 'Primary/elementary school' or x == 'Secondary school (e.g. American high school, German Realschule or Gymnasium, etc.)' or x == 'Some college/university study without earning a degree' or x == 'Other doctoral degree (Ph.D., Ed.D., etc.)' or x == 'Associate degree (A.A., A.S., etc.)' or x == 'Professional degree (JD, MD, etc.)' or x == 'Something else' :\n",
    "        return \"Non It Degree\"\n",
    "    return x"
   ]
  },
  {
   "cell_type": "code",
   "execution_count": 21,
   "id": "ba269b34",
   "metadata": {},
   "outputs": [],
   "source": [
    "# apply function on highest education column\n",
    "df2['HighestEducation'] = df2['HighestEducation'].apply(change_education)"
   ]
  },
  {
   "cell_type": "code",
   "execution_count": 22,
   "id": "94eb2bbb",
   "metadata": {},
   "outputs": [
    {
     "data": {
      "text/plain": [
       "Bachelor's Degree    14516\n",
       "Master’s Degree       7644\n",
       "Non It Degree         7326\n",
       "Name: HighestEducation, dtype: int64"
      ]
     },
     "execution_count": 22,
     "metadata": {},
     "output_type": "execute_result"
    }
   ],
   "source": [
    "# check value counts of highest education column after replace value\n",
    "df2.HighestEducation.value_counts()"
   ]
  },
  {
   "cell_type": "code",
   "execution_count": 23,
   "id": "410fecb7",
   "metadata": {},
   "outputs": [
    {
     "data": {
      "text/plain": [
       "array(['4', '5', '6', '2', '18', '21', '16', '10', 'Less than 1 year',\n",
       "       '15', '3', '12', '8', '17', '1', '14', '7', '26', '34', '11', '25',\n",
       "       '24', '22', '13', '9', '39', '20', '27', '23', '35', '30', '19',\n",
       "       '33', '37', '43', '40', '29', '38', '31', '45', '42', '28', '46',\n",
       "       '32', '36', '47', '44', '41', 'More than 50 years', '50', '49',\n",
       "       '48'], dtype=object)"
      ]
     },
     "execution_count": 23,
     "metadata": {},
     "output_type": "execute_result"
    }
   ],
   "source": [
    "# check unique value in year of experience column\n",
    "df2['YearOfExperience'].unique()"
   ]
  },
  {
   "cell_type": "markdown",
   "id": "8fee4231",
   "metadata": {},
   "source": [
    "**There Are Some Wrong Datas, We Have To Replace Them With Right Data**"
   ]
  },
  {
   "cell_type": "code",
   "execution_count": 24,
   "id": "10c8b15e",
   "metadata": {},
   "outputs": [],
   "source": [
    "# create a function to replace value of year of experience column\n",
    "def change_year(x):\n",
    "    if x == 'Less than 1 year':\n",
    "        return 0.5\n",
    "    elif x == 'More than 50 years':\n",
    "        return 50\n",
    "    return float(x)"
   ]
  },
  {
   "cell_type": "code",
   "execution_count": 25,
   "id": "951f82f2",
   "metadata": {},
   "outputs": [],
   "source": [
    "# apply function\n",
    "df2['YearOfExperience'] = df2['YearOfExperience'].apply(change_year)"
   ]
  },
  {
   "cell_type": "code",
   "execution_count": 26,
   "id": "966e1cd2",
   "metadata": {},
   "outputs": [
    {
     "data": {
      "text/plain": [
       "array([ 4. ,  5. ,  6. ,  2. , 18. , 21. , 16. , 10. ,  0.5, 15. ,  3. ,\n",
       "       12. ,  8. , 17. ,  1. , 14. ,  7. , 26. , 34. , 11. , 25. , 24. ,\n",
       "       22. , 13. ,  9. , 39. , 20. , 27. , 23. , 35. , 30. , 19. , 33. ,\n",
       "       37. , 43. , 40. , 29. , 38. , 31. , 45. , 42. , 28. , 46. , 32. ,\n",
       "       36. , 47. , 44. , 41. , 50. , 49. , 48. ])"
      ]
     },
     "execution_count": 26,
     "metadata": {},
     "output_type": "execute_result"
    }
   ],
   "source": [
    "# check unique value in year of experience column after replace\n",
    "df2['YearOfExperience'].unique()"
   ]
  },
  {
   "cell_type": "markdown",
   "id": "cb7e47ec",
   "metadata": {},
   "source": [
    "# Find And Remove Outliers"
   ]
  },
  {
   "cell_type": "code",
   "execution_count": 27,
   "id": "28db8161",
   "metadata": {},
   "outputs": [
    {
     "name": "stderr",
     "output_type": "stream",
     "text": [
      "C:\\Users\\mridh\\anaconda3\\lib\\site-packages\\seaborn\\_decorators.py:36: FutureWarning: Pass the following variable as a keyword arg: x. From version 0.12, the only valid positional argument will be `data`, and passing other arguments without an explicit keyword will result in an error or misinterpretation.\n",
      "  warnings.warn(\n",
      "C:\\Users\\mridh\\anaconda3\\lib\\site-packages\\seaborn\\_decorators.py:36: FutureWarning: Pass the following variable as a keyword arg: x. From version 0.12, the only valid positional argument will be `data`, and passing other arguments without an explicit keyword will result in an error or misinterpretation.\n",
      "  warnings.warn(\n"
     ]
    },
    {
     "data": {
      "image/png": "[encoded data removed]",
      "text/plain": [
       "<Figure size 1296x504 with 2 Axes>"
      ]
     },
     "metadata": {
      "needs_background": "light"
     },
     "output_type": "display_data"
    }
   ],
   "source": [
    "# check outliers by boxplot\n",
    "plt.figure(figsize=(18,7))\n",
    "plt.subplot(2,2,1)\n",
    "sns.boxplot(df2['YearOfExperience'])\n",
    "plt.subplot(2,2,2)\n",
    "sns.boxplot(df2['Salary'])\n",
    "plt.show()"
   ]
  },
  {
   "cell_type": "code",
   "execution_count": 28,
   "id": "4c0e1966",
   "metadata": {},
   "outputs": [
    {
     "name": "stderr",
     "output_type": "stream",
     "text": [
      "C:\\Users\\mridh\\anaconda3\\lib\\site-packages\\seaborn\\_decorators.py:36: FutureWarning: Pass the following variables as keyword args: x, y. From version 0.12, the only valid positional argument will be `data`, and passing other arguments without an explicit keyword will result in an error or misinterpretation.\n",
      "  warnings.warn(\n",
      "C:\\Users\\mridh\\anaconda3\\lib\\site-packages\\seaborn\\_decorators.py:36: FutureWarning: Pass the following variables as keyword args: x, y. From version 0.12, the only valid positional argument will be `data`, and passing other arguments without an explicit keyword will result in an error or misinterpretation.\n",
      "  warnings.warn(\n"
     ]
    },
    {
     "data": {
      "image/png": "[encoded data removed]",
      "text/plain": [
       "<Figure size 1296x504 with 2 Axes>"
      ]
     },
     "metadata": {
      "needs_background": "light"
     },
     "output_type": "display_data"
    }
   ],
   "source": [
    "# find outliers based on country\n",
    "plt.figure(figsize = (18,7))\n",
    "plt.subplot(2,1,1)\n",
    "sns.boxplot(df2['Country'], df2['YearOfExperience'])\n",
    "plt.subplot(2,1,2)\n",
    "sns.boxplot(df2['Country'], df2['Salary'])\n",
    "plt.show()"
   ]
  },
  {
   "cell_type": "markdown",
   "id": "831c438f",
   "metadata": {},
   "source": [
    "**We Can See There Are Different Different Outliers Based On Country, So We Have To Clean Them One By One**"
   ]
  },
  {
   "cell_type": "markdown",
   "id": "d2a27126",
   "metadata": {},
   "source": [
    "**Find And Remove Outliers From Year Of Experience And Salary Column**"
   ]
  },
  {
   "cell_type": "code",
   "execution_count": 29,
   "id": "9e244aac",
   "metadata": {},
   "outputs": [],
   "source": [
    "sweden = df2[df2['Country'] == 'Sweden']\n",
    "spain = df2[df2['Country'] == 'Spain']\n",
    "germany = df2[df2['Country'] == 'Germany']\n",
    "turkey = df2[df2['Country'] == 'Turkey']\n",
    "canada = df2[df2['Country'] == 'Canada']\n",
    "\n",
    "france = df2[df2['Country'] == 'France']\n",
    "switzerland = df2[df2['Country'] == 'Switzerland']\n",
    "uk = df2[df2['Country'] == 'Uk']\n",
    "russia = df2[df2['Country'] == 'Russia']\n",
    "\n",
    "israel = df2[df2['Country'] == 'Israel']\n",
    "america = df2[df2['Country'] == 'America']\n",
    "brazil = df2[df2['Country'] == 'Brazil']\n",
    "\n",
    "italy = df2[df2['Country'] == 'Italy']\n",
    "netherlands = df2[df2['Country'] == 'Netherlands']\n",
    "poland = df2[df2['Country'] == 'Poland']\n",
    "india = df2[df2['Country'] == 'India']\n",
    "australia = df2[df2['Country'] == 'Australia']\n",
    "norway = df2[df2['Country'] == 'Norway']"
   ]
  },
  {
   "cell_type": "code",
   "execution_count": 30,
   "id": "d034fc32",
   "metadata": {},
   "outputs": [
    {
     "name": "stderr",
     "output_type": "stream",
     "text": [
      "C:\\Users\\mridh\\AppData\\Local\\Temp/ipykernel_9228/3575072362.py:10: SettingWithCopyWarning: \n",
      "A value is trying to be set on a copy of a slice from a DataFrame.\n",
      "Try using .loc[row_indexer,col_indexer] = value instead\n",
      "\n",
      "See the caveats in the documentation: https://pandas.pydata.org/pandas-docs/stable/user_guide/indexing.html#returning-a-view-versus-a-copy\n",
      "  india['Salary'] = india['Salary'].apply(lambda x: percentile_3 if x>percentile_3 else x)\n",
      "C:\\Users\\mridh\\AppData\\Local\\Temp/ipykernel_9228/3575072362.py:19: SettingWithCopyWarning: \n",
      "A value is trying to be set on a copy of a slice from a DataFrame.\n",
      "Try using .loc[row_indexer,col_indexer] = value instead\n",
      "\n",
      "See the caveats in the documentation: https://pandas.pydata.org/pandas-docs/stable/user_guide/indexing.html#returning-a-view-versus-a-copy\n",
      "  india['YearOfExperience'] = india['YearOfExperience'].apply(lambda x: percentile_3 if x>percentile_3 else x)\n",
      "C:\\Users\\mridh\\AppData\\Local\\Temp/ipykernel_9228/3575072362.py:30: SettingWithCopyWarning: \n",
      "A value is trying to be set on a copy of a slice from a DataFrame.\n",
      "Try using .loc[row_indexer,col_indexer] = value instead\n",
      "\n",
      "See the caveats in the documentation: https://pandas.pydata.org/pandas-docs/stable/user_guide/indexing.html#returning-a-view-versus-a-copy\n",
      "  america['Salary'] = america['Salary'].apply(lambda x: percentile_3 if x>percentile_3 else x)\n",
      "C:\\Users\\mridh\\AppData\\Local\\Temp/ipykernel_9228/3575072362.py:39: SettingWithCopyWarning: \n",
      "A value is trying to be set on a copy of a slice from a DataFrame.\n",
      "Try using .loc[row_indexer,col_indexer] = value instead\n",
      "\n",
      "See the caveats in the documentation: https://pandas.pydata.org/pandas-docs/stable/user_guide/indexing.html#returning-a-view-versus-a-copy\n",
      "  america['YearOfExperience'] = america['YearOfExperience'].apply(lambda x: percentile_3 if x>percentile_3 else x)\n",
      "C:\\Users\\mridh\\AppData\\Local\\Temp/ipykernel_9228/3575072362.py:50: SettingWithCopyWarning: \n",
      "A value is trying to be set on a copy of a slice from a DataFrame.\n",
      "Try using .loc[row_indexer,col_indexer] = value instead\n",
      "\n",
      "See the caveats in the documentation: https://pandas.pydata.org/pandas-docs/stable/user_guide/indexing.html#returning-a-view-versus-a-copy\n",
      "  russia['Salary'] = russia['Salary'].apply(lambda x: percentile_3 if x>percentile_3 else x)\n",
      "C:\\Users\\mridh\\AppData\\Local\\Temp/ipykernel_9228/3575072362.py:59: SettingWithCopyWarning: \n",
      "A value is trying to be set on a copy of a slice from a DataFrame.\n",
      "Try using .loc[row_indexer,col_indexer] = value instead\n",
      "\n",
      "See the caveats in the documentation: https://pandas.pydata.org/pandas-docs/stable/user_guide/indexing.html#returning-a-view-versus-a-copy\n",
      "  russia['YearOfExperience'] = russia['YearOfExperience'].apply(lambda x: percentile_3 if x>percentile_3 else x)\n",
      "C:\\Users\\mridh\\AppData\\Local\\Temp/ipykernel_9228/3575072362.py:70: SettingWithCopyWarning: \n",
      "A value is trying to be set on a copy of a slice from a DataFrame.\n",
      "Try using .loc[row_indexer,col_indexer] = value instead\n",
      "\n",
      "See the caveats in the documentation: https://pandas.pydata.org/pandas-docs/stable/user_guide/indexing.html#returning-a-view-versus-a-copy\n",
      "  brazil['Salary'] = brazil['Salary'].apply(lambda x: percentile_3 if x>percentile_3 else x)\n",
      "C:\\Users\\mridh\\AppData\\Local\\Temp/ipykernel_9228/3575072362.py:79: SettingWithCopyWarning: \n",
      "A value is trying to be set on a copy of a slice from a DataFrame.\n",
      "Try using .loc[row_indexer,col_indexer] = value instead\n",
      "\n",
      "See the caveats in the documentation: https://pandas.pydata.org/pandas-docs/stable/user_guide/indexing.html#returning-a-view-versus-a-copy\n",
      "  brazil['YearOfExperience'] = brazil['YearOfExperience'].apply(lambda x: percentile_3 if x>percentile_3 else x)\n",
      "C:\\Users\\mridh\\AppData\\Local\\Temp/ipykernel_9228/3575072362.py:89: SettingWithCopyWarning: \n",
      "A value is trying to be set on a copy of a slice from a DataFrame.\n",
      "Try using .loc[row_indexer,col_indexer] = value instead\n",
      "\n",
      "See the caveats in the documentation: https://pandas.pydata.org/pandas-docs/stable/user_guide/indexing.html#returning-a-view-versus-a-copy\n",
      "  uk['Salary'] = uk['Salary'].apply(lambda x: percentile_3 if x>percentile_3 else x)\n",
      "C:\\Users\\mridh\\AppData\\Local\\Temp/ipykernel_9228/3575072362.py:97: SettingWithCopyWarning: \n",
      "A value is trying to be set on a copy of a slice from a DataFrame.\n",
      "Try using .loc[row_indexer,col_indexer] = value instead\n",
      "\n",
      "See the caveats in the documentation: https://pandas.pydata.org/pandas-docs/stable/user_guide/indexing.html#returning-a-view-versus-a-copy\n",
      "  uk['YearOfExperience'] = uk['YearOfExperience'].apply(lambda x: percentile_3 if x>percentile_3 else x)\n",
      "C:\\Users\\mridh\\AppData\\Local\\Temp/ipykernel_9228/3575072362.py:107: SettingWithCopyWarning: \n",
      "A value is trying to be set on a copy of a slice from a DataFrame.\n",
      "Try using .loc[row_indexer,col_indexer] = value instead\n",
      "\n",
      "See the caveats in the documentation: https://pandas.pydata.org/pandas-docs/stable/user_guide/indexing.html#returning-a-view-versus-a-copy\n",
      "  israel['Salary'] = israel['Salary'].apply(lambda x: percentile_3 if x>percentile_3 else x)\n",
      "C:\\Users\\mridh\\AppData\\Local\\Temp/ipykernel_9228/3575072362.py:115: SettingWithCopyWarning: \n",
      "A value is trying to be set on a copy of a slice from a DataFrame.\n",
      "Try using .loc[row_indexer,col_indexer] = value instead\n",
      "\n",
      "See the caveats in the documentation: https://pandas.pydata.org/pandas-docs/stable/user_guide/indexing.html#returning-a-view-versus-a-copy\n",
      "  israel['YearOfExperience'] = israel['YearOfExperience'].apply(lambda x: percentile_3 if x>percentile_3 else x)\n",
      "C:\\Users\\mridh\\AppData\\Local\\Temp/ipykernel_9228/3575072362.py:125: SettingWithCopyWarning: \n",
      "A value is trying to be set on a copy of a slice from a DataFrame.\n",
      "Try using .loc[row_indexer,col_indexer] = value instead\n",
      "\n",
      "See the caveats in the documentation: https://pandas.pydata.org/pandas-docs/stable/user_guide/indexing.html#returning-a-view-versus-a-copy\n",
      "  france['Salary'] = france['Salary'].apply(lambda x: percentile_3 if x>percentile_3 else x)\n",
      "C:\\Users\\mridh\\AppData\\Local\\Temp/ipykernel_9228/3575072362.py:133: SettingWithCopyWarning: \n",
      "A value is trying to be set on a copy of a slice from a DataFrame.\n",
      "Try using .loc[row_indexer,col_indexer] = value instead\n",
      "\n",
      "See the caveats in the documentation: https://pandas.pydata.org/pandas-docs/stable/user_guide/indexing.html#returning-a-view-versus-a-copy\n",
      "  france['YearOfExperience'] = france['YearOfExperience'].apply(lambda x: percentile_3 if x>percentile_3 else x)\n",
      "C:\\Users\\mridh\\AppData\\Local\\Temp/ipykernel_9228/3575072362.py:143: SettingWithCopyWarning: \n",
      "A value is trying to be set on a copy of a slice from a DataFrame.\n",
      "Try using .loc[row_indexer,col_indexer] = value instead\n",
      "\n",
      "See the caveats in the documentation: https://pandas.pydata.org/pandas-docs/stable/user_guide/indexing.html#returning-a-view-versus-a-copy\n",
      "  sweden['Salary'] = sweden['Salary'].apply(lambda x: percentile_3 if x>percentile_3 else x)\n",
      "C:\\Users\\mridh\\AppData\\Local\\Temp/ipykernel_9228/3575072362.py:144: SettingWithCopyWarning: \n",
      "A value is trying to be set on a copy of a slice from a DataFrame.\n",
      "Try using .loc[row_indexer,col_indexer] = value instead\n",
      "\n",
      "See the caveats in the documentation: https://pandas.pydata.org/pandas-docs/stable/user_guide/indexing.html#returning-a-view-versus-a-copy\n",
      "  sweden['Salary'] = sweden['Salary'].apply(lambda x: percentile_1 if x<percentile_1 else x)\n",
      "C:\\Users\\mridh\\AppData\\Local\\Temp/ipykernel_9228/3575072362.py:152: SettingWithCopyWarning: \n",
      "A value is trying to be set on a copy of a slice from a DataFrame.\n",
      "Try using .loc[row_indexer,col_indexer] = value instead\n",
      "\n",
      "See the caveats in the documentation: https://pandas.pydata.org/pandas-docs/stable/user_guide/indexing.html#returning-a-view-versus-a-copy\n",
      "  sweden['YearOfExperience'] = sweden['YearOfExperience'].apply(lambda x: percentile_3 if x>percentile_3 else x)\n",
      "C:\\Users\\mridh\\AppData\\Local\\Temp/ipykernel_9228/3575072362.py:162: SettingWithCopyWarning: \n",
      "A value is trying to be set on a copy of a slice from a DataFrame.\n",
      "Try using .loc[row_indexer,col_indexer] = value instead\n",
      "\n",
      "See the caveats in the documentation: https://pandas.pydata.org/pandas-docs/stable/user_guide/indexing.html#returning-a-view-versus-a-copy\n",
      "  spain['Salary'] = spain['Salary'].apply(lambda x: percentile_3 if x>percentile_3 else x)\n",
      "C:\\Users\\mridh\\AppData\\Local\\Temp/ipykernel_9228/3575072362.py:170: SettingWithCopyWarning: \n",
      "A value is trying to be set on a copy of a slice from a DataFrame.\n",
      "Try using .loc[row_indexer,col_indexer] = value instead\n",
      "\n",
      "See the caveats in the documentation: https://pandas.pydata.org/pandas-docs/stable/user_guide/indexing.html#returning-a-view-versus-a-copy\n",
      "  spain['YearOfExperience'] = spain['YearOfExperience'].apply(lambda x: percentile_3 if x>percentile_3 else x)\n",
      "C:\\Users\\mridh\\AppData\\Local\\Temp/ipykernel_9228/3575072362.py:180: SettingWithCopyWarning: \n",
      "A value is trying to be set on a copy of a slice from a DataFrame.\n",
      "Try using .loc[row_indexer,col_indexer] = value instead\n",
      "\n",
      "See the caveats in the documentation: https://pandas.pydata.org/pandas-docs/stable/user_guide/indexing.html#returning-a-view-versus-a-copy\n",
      "  germany['Salary'] = germany['Salary'].apply(lambda x: percentile_3 if x>percentile_3 else x)\n",
      "C:\\Users\\mridh\\AppData\\Local\\Temp/ipykernel_9228/3575072362.py:181: SettingWithCopyWarning: \n",
      "A value is trying to be set on a copy of a slice from a DataFrame.\n",
      "Try using .loc[row_indexer,col_indexer] = value instead\n",
      "\n",
      "See the caveats in the documentation: https://pandas.pydata.org/pandas-docs/stable/user_guide/indexing.html#returning-a-view-versus-a-copy\n",
      "  germany['Salary'] = germany['Salary'].apply(lambda x: percentile_1 if x<percentile_1 else x)\n",
      "C:\\Users\\mridh\\AppData\\Local\\Temp/ipykernel_9228/3575072362.py:189: SettingWithCopyWarning: \n",
      "A value is trying to be set on a copy of a slice from a DataFrame.\n",
      "Try using .loc[row_indexer,col_indexer] = value instead\n",
      "\n",
      "See the caveats in the documentation: https://pandas.pydata.org/pandas-docs/stable/user_guide/indexing.html#returning-a-view-versus-a-copy\n",
      "  germany['YearOfExperience'] = germany['YearOfExperience'].apply(lambda x: percentile_3 if x>percentile_3 else x)\n",
      "C:\\Users\\mridh\\AppData\\Local\\Temp/ipykernel_9228/3575072362.py:199: SettingWithCopyWarning: \n",
      "A value is trying to be set on a copy of a slice from a DataFrame.\n",
      "Try using .loc[row_indexer,col_indexer] = value instead\n",
      "\n",
      "See the caveats in the documentation: https://pandas.pydata.org/pandas-docs/stable/user_guide/indexing.html#returning-a-view-versus-a-copy\n",
      "  turkey['Salary'] = turkey['Salary'].apply(lambda x: percentile_3 if x>percentile_3 else x)\n",
      "C:\\Users\\mridh\\AppData\\Local\\Temp/ipykernel_9228/3575072362.py:207: SettingWithCopyWarning: \n",
      "A value is trying to be set on a copy of a slice from a DataFrame.\n",
      "Try using .loc[row_indexer,col_indexer] = value instead\n",
      "\n",
      "See the caveats in the documentation: https://pandas.pydata.org/pandas-docs/stable/user_guide/indexing.html#returning-a-view-versus-a-copy\n",
      "  turkey['YearOfExperience'] = turkey['YearOfExperience'].apply(lambda x: percentile_3 if x>percentile_3 else x)\n",
      "C:\\Users\\mridh\\AppData\\Local\\Temp/ipykernel_9228/3575072362.py:217: SettingWithCopyWarning: \n",
      "A value is trying to be set on a copy of a slice from a DataFrame.\n",
      "Try using .loc[row_indexer,col_indexer] = value instead\n",
      "\n",
      "See the caveats in the documentation: https://pandas.pydata.org/pandas-docs/stable/user_guide/indexing.html#returning-a-view-versus-a-copy\n",
      "  canada['Salary'] = canada['Salary'].apply(lambda x: percentile_3 if x>percentile_3 else x)\n",
      "C:\\Users\\mridh\\AppData\\Local\\Temp/ipykernel_9228/3575072362.py:225: SettingWithCopyWarning: \n",
      "A value is trying to be set on a copy of a slice from a DataFrame.\n",
      "Try using .loc[row_indexer,col_indexer] = value instead\n",
      "\n",
      "See the caveats in the documentation: https://pandas.pydata.org/pandas-docs/stable/user_guide/indexing.html#returning-a-view-versus-a-copy\n",
      "  canada['YearOfExperience'] = canada['YearOfExperience'].apply(lambda x: percentile_3 if x>percentile_3 else x)\n",
      "C:\\Users\\mridh\\AppData\\Local\\Temp/ipykernel_9228/3575072362.py:235: SettingWithCopyWarning: \n",
      "A value is trying to be set on a copy of a slice from a DataFrame.\n",
      "Try using .loc[row_indexer,col_indexer] = value instead\n",
      "\n",
      "See the caveats in the documentation: https://pandas.pydata.org/pandas-docs/stable/user_guide/indexing.html#returning-a-view-versus-a-copy\n",
      "  switzerland['Salary'] = switzerland['Salary'].apply(lambda x: percentile_3 if x>percentile_3 else x)\n",
      "C:\\Users\\mridh\\AppData\\Local\\Temp/ipykernel_9228/3575072362.py:236: SettingWithCopyWarning: \n",
      "A value is trying to be set on a copy of a slice from a DataFrame.\n",
      "Try using .loc[row_indexer,col_indexer] = value instead\n",
      "\n",
      "See the caveats in the documentation: https://pandas.pydata.org/pandas-docs/stable/user_guide/indexing.html#returning-a-view-versus-a-copy\n",
      "  switzerland['Salary'] = switzerland['Salary'].apply(lambda x: percentile_1 if x<percentile_1 else x)\n",
      "C:\\Users\\mridh\\AppData\\Local\\Temp/ipykernel_9228/3575072362.py:244: SettingWithCopyWarning: \n",
      "A value is trying to be set on a copy of a slice from a DataFrame.\n",
      "Try using .loc[row_indexer,col_indexer] = value instead\n",
      "\n",
      "See the caveats in the documentation: https://pandas.pydata.org/pandas-docs/stable/user_guide/indexing.html#returning-a-view-versus-a-copy\n",
      "  switzerland['YearOfExperience'] = switzerland['YearOfExperience'].apply(lambda x: percentile_3 if x>percentile_3 else x)\n",
      "C:\\Users\\mridh\\AppData\\Local\\Temp/ipykernel_9228/3575072362.py:254: SettingWithCopyWarning: \n",
      "A value is trying to be set on a copy of a slice from a DataFrame.\n",
      "Try using .loc[row_indexer,col_indexer] = value instead\n",
      "\n",
      "See the caveats in the documentation: https://pandas.pydata.org/pandas-docs/stable/user_guide/indexing.html#returning-a-view-versus-a-copy\n",
      "  italy['Salary'] = italy['Salary'].apply(lambda x: percentile_3 if x>percentile_3 else x)\n",
      "C:\\Users\\mridh\\AppData\\Local\\Temp/ipykernel_9228/3575072362.py:262: SettingWithCopyWarning: \n",
      "A value is trying to be set on a copy of a slice from a DataFrame.\n",
      "Try using .loc[row_indexer,col_indexer] = value instead\n",
      "\n",
      "See the caveats in the documentation: https://pandas.pydata.org/pandas-docs/stable/user_guide/indexing.html#returning-a-view-versus-a-copy\n",
      "  italy['YearOfExperience'] = italy['YearOfExperience'].apply(lambda x: percentile_3 if x>percentile_3 else x)\n",
      "C:\\Users\\mridh\\AppData\\Local\\Temp/ipykernel_9228/3575072362.py:272: SettingWithCopyWarning: \n",
      "A value is trying to be set on a copy of a slice from a DataFrame.\n",
      "Try using .loc[row_indexer,col_indexer] = value instead\n",
      "\n",
      "See the caveats in the documentation: https://pandas.pydata.org/pandas-docs/stable/user_guide/indexing.html#returning-a-view-versus-a-copy\n",
      "  netherlands['Salary'] = netherlands['Salary'].apply(lambda x: percentile_3 if x>percentile_3 else x)\n",
      "C:\\Users\\mridh\\AppData\\Local\\Temp/ipykernel_9228/3575072362.py:280: SettingWithCopyWarning: \n",
      "A value is trying to be set on a copy of a slice from a DataFrame.\n",
      "Try using .loc[row_indexer,col_indexer] = value instead\n",
      "\n",
      "See the caveats in the documentation: https://pandas.pydata.org/pandas-docs/stable/user_guide/indexing.html#returning-a-view-versus-a-copy\n",
      "  netherlands['YearOfExperience'] = netherlands['YearOfExperience'].apply(lambda x: percentile_3 if x>percentile_3 else x)\n",
      "C:\\Users\\mridh\\AppData\\Local\\Temp/ipykernel_9228/3575072362.py:290: SettingWithCopyWarning: \n",
      "A value is trying to be set on a copy of a slice from a DataFrame.\n",
      "Try using .loc[row_indexer,col_indexer] = value instead\n",
      "\n",
      "See the caveats in the documentation: https://pandas.pydata.org/pandas-docs/stable/user_guide/indexing.html#returning-a-view-versus-a-copy\n",
      "  poland['Salary'] = poland['Salary'].apply(lambda x: percentile_3 if x>percentile_3 else x)\n",
      "C:\\Users\\mridh\\AppData\\Local\\Temp/ipykernel_9228/3575072362.py:298: SettingWithCopyWarning: \n",
      "A value is trying to be set on a copy of a slice from a DataFrame.\n",
      "Try using .loc[row_indexer,col_indexer] = value instead\n",
      "\n",
      "See the caveats in the documentation: https://pandas.pydata.org/pandas-docs/stable/user_guide/indexing.html#returning-a-view-versus-a-copy\n",
      "  poland['YearOfExperience'] = poland['YearOfExperience'].apply(lambda x: percentile_3 if x>percentile_3 else x)\n",
      "C:\\Users\\mridh\\AppData\\Local\\Temp/ipykernel_9228/3575072362.py:308: SettingWithCopyWarning: \n",
      "A value is trying to be set on a copy of a slice from a DataFrame.\n",
      "Try using .loc[row_indexer,col_indexer] = value instead\n",
      "\n",
      "See the caveats in the documentation: https://pandas.pydata.org/pandas-docs/stable/user_guide/indexing.html#returning-a-view-versus-a-copy\n",
      "  australia['Salary'] = australia['Salary'].apply(lambda x: percentile_3 if x>percentile_3 else x)\n",
      "C:\\Users\\mridh\\AppData\\Local\\Temp/ipykernel_9228/3575072362.py:316: SettingWithCopyWarning: \n",
      "A value is trying to be set on a copy of a slice from a DataFrame.\n",
      "Try using .loc[row_indexer,col_indexer] = value instead\n",
      "\n",
      "See the caveats in the documentation: https://pandas.pydata.org/pandas-docs/stable/user_guide/indexing.html#returning-a-view-versus-a-copy\n",
      "  australia['YearOfExperience'] = australia['YearOfExperience'].apply(lambda x: percentile_3 if x>percentile_3 else x)\n",
      "C:\\Users\\mridh\\AppData\\Local\\Temp/ipykernel_9228/3575072362.py:326: SettingWithCopyWarning: \n",
      "A value is trying to be set on a copy of a slice from a DataFrame.\n",
      "Try using .loc[row_indexer,col_indexer] = value instead\n",
      "\n",
      "See the caveats in the documentation: https://pandas.pydata.org/pandas-docs/stable/user_guide/indexing.html#returning-a-view-versus-a-copy\n",
      "  norway['Salary'] = norway['Salary'].apply(lambda x: percentile_3 if x>percentile_3 else x)\n",
      "C:\\Users\\mridh\\AppData\\Local\\Temp/ipykernel_9228/3575072362.py:327: SettingWithCopyWarning: \n",
      "A value is trying to be set on a copy of a slice from a DataFrame.\n",
      "Try using .loc[row_indexer,col_indexer] = value instead\n",
      "\n",
      "See the caveats in the documentation: https://pandas.pydata.org/pandas-docs/stable/user_guide/indexing.html#returning-a-view-versus-a-copy\n",
      "  norway['Salary'] = norway['Salary'].apply(lambda x: percentile_1 if x<percentile_1 else x)\n",
      "C:\\Users\\mridh\\AppData\\Local\\Temp/ipykernel_9228/3575072362.py:335: SettingWithCopyWarning: \n",
      "A value is trying to be set on a copy of a slice from a DataFrame.\n",
      "Try using .loc[row_indexer,col_indexer] = value instead\n",
      "\n",
      "See the caveats in the documentation: https://pandas.pydata.org/pandas-docs/stable/user_guide/indexing.html#returning-a-view-versus-a-copy\n",
      "  norway['YearOfExperience'] = norway['YearOfExperience'].apply(lambda x: percentile_3 if x>percentile_3 else x)\n"
     ]
    }
   ],
   "source": [
    "# India\n",
    "\n",
    "low = india['Salary'].quantile(0.25)\n",
    "high = india['Salary'].quantile(0.75)\n",
    "iqr = high-low\n",
    "\n",
    "percentile_1 = low - 1.5 * iqr\n",
    "percentile_3 = low + 1.5 * iqr\n",
    "\n",
    "india['Salary'] = india['Salary'].apply(lambda x: percentile_3 if x>percentile_3 else x)\n",
    "\n",
    "low = india['YearOfExperience'].quantile(0.25)\n",
    "high = india['YearOfExperience'].quantile(0.75)\n",
    "iqr = high-low\n",
    "\n",
    "percentile_1 = low - 1.5 * iqr\n",
    "percentile_3 = low + 1.5 * iqr\n",
    "\n",
    "india['YearOfExperience'] = india['YearOfExperience'].apply(lambda x: percentile_3 if x>percentile_3 else x)\n",
    "\n",
    "# America\n",
    "\n",
    "low = america['Salary'].quantile(0.25)\n",
    "high = america['Salary'].quantile(0.75)\n",
    "iqr = high-low\n",
    "\n",
    "percentile_1 = low - 1.5 * iqr\n",
    "percentile_3 = low + 1.5 * iqr\n",
    "\n",
    "america['Salary'] = america['Salary'].apply(lambda x: percentile_3 if x>percentile_3 else x)\n",
    "\n",
    "low = america['YearOfExperience'].quantile(0.25)\n",
    "high = america['YearOfExperience'].quantile(0.75)\n",
    "iqr = high-low\n",
    "\n",
    "percentile_1 = low - 1.5 * iqr\n",
    "percentile_3 = low + 1.5 * iqr\n",
    "\n",
    "america['YearOfExperience'] = america['YearOfExperience'].apply(lambda x: percentile_3 if x>percentile_3 else x)\n",
    "\n",
    "# Russia\n",
    "\n",
    "low = russia['Salary'].quantile(0.25)\n",
    "high = russia['Salary'].quantile(0.75)\n",
    "iqr = high-low\n",
    "\n",
    "percentile_1 = low - 1.5 * iqr\n",
    "percentile_3 = low + 1.5 * iqr\n",
    "\n",
    "russia['Salary'] = russia['Salary'].apply(lambda x: percentile_3 if x>percentile_3 else x)\n",
    "\n",
    "low = russia['YearOfExperience'].quantile(0.25)\n",
    "high = russia['YearOfExperience'].quantile(0.75)\n",
    "iqr = high-low\n",
    "\n",
    "percentile_1 = low - 1.5 * iqr\n",
    "percentile_3 = low + 1.5 * iqr\n",
    "\n",
    "russia['YearOfExperience'] = russia['YearOfExperience'].apply(lambda x: percentile_3 if x>percentile_3 else x)\n",
    "\n",
    "# Brazil\n",
    "\n",
    "low = brazil['Salary'].quantile(0.25)\n",
    "high = brazil['Salary'].quantile(0.75)\n",
    "iqr = high-low\n",
    "\n",
    "percentile_1 = low - 1.5 * iqr\n",
    "percentile_3 = low + 1.5 * iqr\n",
    "\n",
    "brazil['Salary'] = brazil['Salary'].apply(lambda x: percentile_3 if x>percentile_3 else x)\n",
    "\n",
    "low = brazil['YearOfExperience'].quantile(0.25)\n",
    "high = brazil['YearOfExperience'].quantile(0.75)\n",
    "iqr = high-low\n",
    "\n",
    "percentile_1 = low - 1.5 * iqr\n",
    "percentile_3 = low + 1.5 * iqr\n",
    "\n",
    "brazil['YearOfExperience'] = brazil['YearOfExperience'].apply(lambda x: percentile_3 if x>percentile_3 else x)\n",
    "\n",
    "# Uk\n",
    "\n",
    "low = uk['Salary'].quantile(0.25)\n",
    "high = uk['Salary'].quantile(0.75)\n",
    "iqr = high-low\n",
    "\n",
    "percentile_1 = low - 1.5 * iqr\n",
    "percentile_3 = low + 1.5 * iqr\n",
    "uk['Salary'] = uk['Salary'].apply(lambda x: percentile_3 if x>percentile_3 else x)\n",
    "\n",
    "low = uk['YearOfExperience'].quantile(0.25)\n",
    "high = uk['YearOfExperience'].quantile(0.75)\n",
    "iqr = high-low\n",
    "\n",
    "percentile_1 = low - 1.5 * iqr\n",
    "percentile_3 = low + 1.5 * iqr\n",
    "uk['YearOfExperience'] = uk['YearOfExperience'].apply(lambda x: percentile_3 if x>percentile_3 else x)\n",
    "\n",
    "# Israel\n",
    "\n",
    "low = israel['Salary'].quantile(0.25)\n",
    "high = israel['Salary'].quantile(0.75)\n",
    "iqr = high-low\n",
    "\n",
    "percentile_1 = low - 1.5 * iqr\n",
    "percentile_3 = low + 1.5 * iqr\n",
    "israel['Salary'] = israel['Salary'].apply(lambda x: percentile_3 if x>percentile_3 else x)\n",
    "\n",
    "low = israel['YearOfExperience'].quantile(0.25)\n",
    "high = israel['YearOfExperience'].quantile(0.75)\n",
    "iqr = high-low\n",
    "\n",
    "percentile_1 = low - 1.5 * iqr\n",
    "percentile_3 = low + 1.5 * iqr\n",
    "israel['YearOfExperience'] = israel['YearOfExperience'].apply(lambda x: percentile_3 if x>percentile_3 else x)\n",
    "\n",
    "# France\n",
    "\n",
    "low = france['Salary'].quantile(0.25)\n",
    "high = france['Salary'].quantile(0.75)\n",
    "iqr = high-low\n",
    "\n",
    "percentile_1 = low - 1.5 * iqr\n",
    "percentile_3 = low + 1.5 * iqr\n",
    "france['Salary'] = france['Salary'].apply(lambda x: percentile_3 if x>percentile_3 else x)\n",
    "\n",
    "low = france['YearOfExperience'].quantile(0.25)\n",
    "high = france['YearOfExperience'].quantile(0.75)\n",
    "iqr = high-low\n",
    "\n",
    "percentile_1 = low - 1.5 * iqr\n",
    "percentile_3 = low + 1.5 * iqr\n",
    "france['YearOfExperience'] = france['YearOfExperience'].apply(lambda x: percentile_3 if x>percentile_3 else x)\n",
    "\n",
    "# Sweden\n",
    "\n",
    "low = sweden['Salary'].quantile(0.25)\n",
    "high = sweden['Salary'].quantile(0.75)\n",
    "iqr = high-low\n",
    "\n",
    "percentile_1 = low - 1.5 * iqr\n",
    "percentile_3 = low + 1.5 * iqr\n",
    "sweden['Salary'] = sweden['Salary'].apply(lambda x: percentile_3 if x>percentile_3 else x)\n",
    "sweden['Salary'] = sweden['Salary'].apply(lambda x: percentile_1 if x<percentile_1 else x)\n",
    "\n",
    "low = sweden['YearOfExperience'].quantile(0.25)\n",
    "high = sweden['YearOfExperience'].quantile(0.75)\n",
    "iqr = high-low\n",
    "\n",
    "percentile_1 = low - 1.5 * iqr\n",
    "percentile_3 = low + 1.5 * iqr\n",
    "sweden['YearOfExperience'] = sweden['YearOfExperience'].apply(lambda x: percentile_3 if x>percentile_3 else x)\n",
    "\n",
    "# Spain\n",
    "\n",
    "low = spain['Salary'].quantile(0.25)\n",
    "high = spain['Salary'].quantile(0.75)\n",
    "iqr = high-low\n",
    "\n",
    "percentile_1 = low - 1.5 * iqr\n",
    "percentile_3 = low + 1.5 * iqr\n",
    "spain['Salary'] = spain['Salary'].apply(lambda x: percentile_3 if x>percentile_3 else x)\n",
    "\n",
    "low = spain['YearOfExperience'].quantile(0.25)\n",
    "high = spain['YearOfExperience'].quantile(0.75)\n",
    "iqr = high-low\n",
    "\n",
    "percentile_1 = low - 1.5 * iqr\n",
    "percentile_3 = low + 1.5 * iqr\n",
    "spain['YearOfExperience'] = spain['YearOfExperience'].apply(lambda x: percentile_3 if x>percentile_3 else x)\n",
    "\n",
    "# Germany\n",
    "\n",
    "low = germany['Salary'].quantile(0.25)\n",
    "high = germany['Salary'].quantile(0.75)\n",
    "iqr = high-low\n",
    "\n",
    "percentile_1 = low - 1.5 * iqr\n",
    "percentile_3 = low + 1.5 * iqr\n",
    "germany['Salary'] = germany['Salary'].apply(lambda x: percentile_3 if x>percentile_3 else x)\n",
    "germany['Salary'] = germany['Salary'].apply(lambda x: percentile_1 if x<percentile_1 else x)\n",
    "\n",
    "low = germany['YearOfExperience'].quantile(0.25)\n",
    "high = germany['YearOfExperience'].quantile(0.75)\n",
    "iqr = high-low\n",
    "\n",
    "percentile_1 = low - 1.5 * iqr\n",
    "percentile_3 = low + 1.5 * iqr\n",
    "germany['YearOfExperience'] = germany['YearOfExperience'].apply(lambda x: percentile_3 if x>percentile_3 else x)\n",
    "\n",
    "# Turkey\n",
    "\n",
    "low = turkey['Salary'].quantile(0.25)\n",
    "high = turkey['Salary'].quantile(0.75)\n",
    "iqr = high-low\n",
    "\n",
    "percentile_1 = low - 1.5 * iqr\n",
    "percentile_3 = low + 1.5 * iqr\n",
    "turkey['Salary'] = turkey['Salary'].apply(lambda x: percentile_3 if x>percentile_3 else x)\n",
    "\n",
    "low = turkey['YearOfExperience'].quantile(0.25)\n",
    "high = turkey['YearOfExperience'].quantile(0.75)\n",
    "iqr = high-low\n",
    "\n",
    "percentile_1 = low - 1.5 * iqr\n",
    "percentile_3 = low + 1.5 * iqr\n",
    "turkey['YearOfExperience'] = turkey['YearOfExperience'].apply(lambda x: percentile_3 if x>percentile_3 else x)\n",
    "\n",
    "# Canada\n",
    "\n",
    "low = canada['Salary'].quantile(0.25)\n",
    "high = canada['Salary'].quantile(0.75)\n",
    "iqr = high-low\n",
    "\n",
    "percentile_1 = low - 1.5 * iqr\n",
    "percentile_3 = low + 1.5 * iqr\n",
    "canada['Salary'] = canada['Salary'].apply(lambda x: percentile_3 if x>percentile_3 else x)\n",
    "\n",
    "low = canada['YearOfExperience'].quantile(0.25)\n",
    "high = canada['YearOfExperience'].quantile(0.75)\n",
    "iqr = high-low\n",
    "\n",
    "percentile_1 = low - 1.5 * iqr\n",
    "percentile_3 = low + 1.5 * iqr\n",
    "canada['YearOfExperience'] = canada['YearOfExperience'].apply(lambda x: percentile_3 if x>percentile_3 else x)\n",
    "\n",
    "# Switzerland\n",
    "\n",
    "low = switzerland['Salary'].quantile(0.25)\n",
    "high = switzerland['Salary'].quantile(0.75)\n",
    "iqr = high-low\n",
    "\n",
    "percentile_1 = low - 1.5 * iqr\n",
    "percentile_3 = low + 1.5 * iqr\n",
    "switzerland['Salary'] = switzerland['Salary'].apply(lambda x: percentile_3 if x>percentile_3 else x)\n",
    "switzerland['Salary'] = switzerland['Salary'].apply(lambda x: percentile_1 if x<percentile_1 else x)\n",
    "\n",
    "low = switzerland['YearOfExperience'].quantile(0.25)\n",
    "high = switzerland['YearOfExperience'].quantile(0.75)\n",
    "iqr = high-low\n",
    "\n",
    "percentile_1 = low - 1.5 * iqr\n",
    "percentile_3 = low + 1.5 * iqr\n",
    "switzerland['YearOfExperience'] = switzerland['YearOfExperience'].apply(lambda x: percentile_3 if x>percentile_3 else x)\n",
    "\n",
    "# Italy\n",
    "\n",
    "low = italy['Salary'].quantile(0.25)\n",
    "high = italy['Salary'].quantile(0.75)\n",
    "iqr = high-low\n",
    "\n",
    "percentile_1 = low - 1.5 * iqr\n",
    "percentile_3 = low + 1.5 * iqr\n",
    "italy['Salary'] = italy['Salary'].apply(lambda x: percentile_3 if x>percentile_3 else x)\n",
    "\n",
    "low = italy['YearOfExperience'].quantile(0.25)\n",
    "high = italy['YearOfExperience'].quantile(0.75)\n",
    "iqr = high-low\n",
    "\n",
    "percentile_1 = low - 1.5 * iqr\n",
    "percentile_3 = low + 1.5 * iqr\n",
    "italy['YearOfExperience'] = italy['YearOfExperience'].apply(lambda x: percentile_3 if x>percentile_3 else x)\n",
    "\n",
    "# Netherlands\n",
    "\n",
    "low = netherlands['Salary'].quantile(0.25)\n",
    "high = netherlands['Salary'].quantile(0.75)\n",
    "iqr = high-low\n",
    "\n",
    "percentile_1 = low - 1.5 * iqr\n",
    "percentile_3 = low + 1.5 * iqr\n",
    "netherlands['Salary'] = netherlands['Salary'].apply(lambda x: percentile_3 if x>percentile_3 else x)\n",
    "\n",
    "low = netherlands['YearOfExperience'].quantile(0.25)\n",
    "high = netherlands['YearOfExperience'].quantile(0.75)\n",
    "iqr = high-low\n",
    "\n",
    "percentile_1 = low - 1.5 * iqr\n",
    "percentile_3 = low + 1.5 * iqr\n",
    "netherlands['YearOfExperience'] = netherlands['YearOfExperience'].apply(lambda x: percentile_3 if x>percentile_3 else x)\n",
    "\n",
    "# Poland\n",
    "\n",
    "low = poland['Salary'].quantile(0.25)\n",
    "high = poland['Salary'].quantile(0.75)\n",
    "iqr = high-low\n",
    "\n",
    "percentile_1 = low - 1.5 * iqr\n",
    "percentile_3 = low + 1.5 * iqr\n",
    "poland['Salary'] = poland['Salary'].apply(lambda x: percentile_3 if x>percentile_3 else x)\n",
    "\n",
    "low = poland['YearOfExperience'].quantile(0.25)\n",
    "high = poland['YearOfExperience'].quantile(0.75)\n",
    "iqr = high-low\n",
    "\n",
    "percentile_1 = low - 1.5 * iqr\n",
    "percentile_3 = low + 1.5 * iqr\n",
    "poland['YearOfExperience'] = poland['YearOfExperience'].apply(lambda x: percentile_3 if x>percentile_3 else x)\n",
    "\n",
    "# Australia\n",
    "\n",
    "low = australia['Salary'].quantile(0.25)\n",
    "high = australia['Salary'].quantile(0.75)\n",
    "iqr = high-low\n",
    "\n",
    "percentile_1 = low - 1.5 * iqr\n",
    "percentile_3 = low + 1.5 * iqr\n",
    "australia['Salary'] = australia['Salary'].apply(lambda x: percentile_3 if x>percentile_3 else x)\n",
    "\n",
    "low = australia['YearOfExperience'].quantile(0.25)\n",
    "high = australia['YearOfExperience'].quantile(0.75)\n",
    "iqr = high-low\n",
    "\n",
    "percentile_1 = low - 1.5 * iqr\n",
    "percentile_3 = low + 1.5 * iqr\n",
    "australia['YearOfExperience'] = australia['YearOfExperience'].apply(lambda x: percentile_3 if x>percentile_3 else x)\n",
    "\n",
    "# Norway\n",
    "\n",
    "low = norway['Salary'].quantile(0.25)\n",
    "high = norway['Salary'].quantile(0.75)\n",
    "iqr = high-low\n",
    "\n",
    "percentile_1 = low - 1.5 * iqr\n",
    "percentile_3 = low + 1.5 * iqr\n",
    "norway['Salary'] = norway['Salary'].apply(lambda x: percentile_3 if x>percentile_3 else x)\n",
    "norway['Salary'] = norway['Salary'].apply(lambda x: percentile_1 if x<percentile_1 else x)\n",
    "\n",
    "low = norway['YearOfExperience'].quantile(0.25)\n",
    "high = norway['YearOfExperience'].quantile(0.75)\n",
    "iqr = high-low\n",
    "\n",
    "percentile_1 = low - 1.5 * iqr\n",
    "percentile_3 = low + 1.5 * iqr\n",
    "norway['YearOfExperience'] = norway['YearOfExperience'].apply(lambda x: percentile_3 if x>percentile_3 else x)\n"
   ]
  },
  {
   "cell_type": "code",
   "execution_count": 31,
   "id": "a837bd88",
   "metadata": {},
   "outputs": [],
   "source": [
    "# concate all dataframes and create new dataframe\n",
    "new_df = pd.concat([india,russia,italy,america,uk,brazil,norway,netherlands,poland,australia,israel,sweden,switzerland,france,canada,germany,turkey,spain],ignore_index=True)"
   ]
  },
  {
   "cell_type": "code",
   "execution_count": 32,
   "id": "df39ffda",
   "metadata": {},
   "outputs": [
    {
     "data": {
      "text/html": [
       "<div>\n",
       "<style scoped>\n",
       "    .dataframe tbody tr th:only-of-type {\n",
       "        vertical-align: middle;\n",
       "    }\n",
       "\n",
       "    .dataframe tbody tr th {\n",
       "        vertical-align: top;\n",
       "    }\n",
       "\n",
       "    .dataframe thead th {\n",
       "        text-align: right;\n",
       "    }\n",
       "</style>\n",
       "<table border=\"1\" class=\"dataframe\">\n",
       "  <thead>\n",
       "    <tr style=\"text-align: right;\">\n",
       "      <th></th>\n",
       "      <th>Employment</th>\n",
       "      <th>Country</th>\n",
       "      <th>HighestEducation</th>\n",
       "      <th>YearOfExperience</th>\n",
       "      <th>Salary</th>\n",
       "    </tr>\n",
       "  </thead>\n",
       "  <tbody>\n",
       "    <tr>\n",
       "      <th>0</th>\n",
       "      <td>Employed full-time</td>\n",
       "      <td>India</td>\n",
       "      <td>Bachelor's Degree</td>\n",
       "      <td>1.0</td>\n",
       "      <td>1512.0</td>\n",
       "    </tr>\n",
       "    <tr>\n",
       "      <th>1</th>\n",
       "      <td>Employed full-time</td>\n",
       "      <td>India</td>\n",
       "      <td>Master’s Degree</td>\n",
       "      <td>9.5</td>\n",
       "      <td>30716.0</td>\n",
       "    </tr>\n",
       "    <tr>\n",
       "      <th>2</th>\n",
       "      <td>Employed full-time</td>\n",
       "      <td>India</td>\n",
       "      <td>Bachelor's Degree</td>\n",
       "      <td>2.0</td>\n",
       "      <td>5585.0</td>\n",
       "    </tr>\n",
       "    <tr>\n",
       "      <th>3</th>\n",
       "      <td>Employed full-time</td>\n",
       "      <td>India</td>\n",
       "      <td>Bachelor's Degree</td>\n",
       "      <td>5.0</td>\n",
       "      <td>37696.5</td>\n",
       "    </tr>\n",
       "    <tr>\n",
       "      <th>4</th>\n",
       "      <td>Employed full-time</td>\n",
       "      <td>India</td>\n",
       "      <td>Bachelor's Degree</td>\n",
       "      <td>4.0</td>\n",
       "      <td>21676.0</td>\n",
       "    </tr>\n",
       "  </tbody>\n",
       "</table>\n",
       "</div>"
      ],
      "text/plain": [
       "           Employment Country   HighestEducation  YearOfExperience   Salary\n",
       "0  Employed full-time   India  Bachelor's Degree               1.0   1512.0\n",
       "1  Employed full-time   India    Master’s Degree               9.5  30716.0\n",
       "2  Employed full-time   India  Bachelor's Degree               2.0   5585.0\n",
       "3  Employed full-time   India  Bachelor's Degree               5.0  37696.5\n",
       "4  Employed full-time   India  Bachelor's Degree               4.0  21676.0"
      ]
     },
     "execution_count": 32,
     "metadata": {},
     "output_type": "execute_result"
    }
   ],
   "source": [
    "new_df.head()"
   ]
  },
  {
   "cell_type": "code",
   "execution_count": 33,
   "id": "4848cbd0",
   "metadata": {},
   "outputs": [
    {
     "data": {
      "text/plain": [
       "(29486, 5)"
      ]
     },
     "execution_count": 33,
     "metadata": {},
     "output_type": "execute_result"
    }
   ],
   "source": [
    "# new dataframe shape\n",
    "new_df.shape"
   ]
  },
  {
   "cell_type": "code",
   "execution_count": 34,
   "id": "f0933459",
   "metadata": {},
   "outputs": [
    {
     "name": "stderr",
     "output_type": "stream",
     "text": [
      "C:\\Users\\mridh\\anaconda3\\lib\\site-packages\\seaborn\\_decorators.py:36: FutureWarning: Pass the following variables as keyword args: x, y. From version 0.12, the only valid positional argument will be `data`, and passing other arguments without an explicit keyword will result in an error or misinterpretation.\n",
      "  warnings.warn(\n"
     ]
    },
    {
     "data": {
      "image/png": "[encoded data removed]",
      "text/plain": [
       "<Figure size 1296x720 with 1 Axes>"
      ]
     },
     "metadata": {
      "needs_background": "light"
     },
     "output_type": "display_data"
    }
   ],
   "source": [
    "# check outliers in year of experience column after cleaning\n",
    "plt.figure(figsize = (18,10))\n",
    "sns.boxplot(new_df.Country,new_df.YearOfExperience)\n",
    "plt.title('Year Of Experience Based On Country', fontsize = 25)\n",
    "plt.xlabel('Country', fontsize = 20)\n",
    "plt.xticks(rotation = 90, fontsize = 16)\n",
    "plt.ylabel('Year Of Experience', fontsize = 20)\n",
    "plt.yticks(fontsize = 16)\n",
    "plt.show()"
   ]
  },
  {
   "cell_type": "code",
   "execution_count": 35,
   "id": "18fa8b70",
   "metadata": {},
   "outputs": [
    {
     "name": "stderr",
     "output_type": "stream",
     "text": [
      "C:\\Users\\mridh\\anaconda3\\lib\\site-packages\\seaborn\\_decorators.py:36: FutureWarning: Pass the following variables as keyword args: x, y. From version 0.12, the only valid positional argument will be `data`, and passing other arguments without an explicit keyword will result in an error or misinterpretation.\n",
      "  warnings.warn(\n"
     ]
    },
    {
     "data": {
      "image/png": "[encoded data removed]",
      "text/plain": [
       "<Figure size 1296x504 with 1 Axes>"
      ]
     },
     "metadata": {
      "needs_background": "light"
     },
     "output_type": "display_data"
    }
   ],
   "source": [
    "# check outliers in salary column after cleaning\n",
    "plt.figure(figsize = (18,7))\n",
    "sns.boxplot(new_df.Country,new_df.Salary)\n",
    "plt.title('Salary Based On Country', fontsize = 25)\n",
    "plt.xlabel('Country', fontsize = 20)\n",
    "plt.xticks(rotation = 90, fontsize = 16)\n",
    "plt.ylabel('Salary', fontsize = 20)\n",
    "plt.yticks(fontsize = 16)\n",
    "plt.show()"
   ]
  },
  {
   "cell_type": "code",
   "execution_count": 36,
   "id": "6e24346c",
   "metadata": {},
   "outputs": [],
   "source": [
    "# drop employment column for better prediction\n",
    "new_df.drop('Employment', axis = 1, inplace=True)"
   ]
  },
  {
   "cell_type": "code",
   "execution_count": 37,
   "id": "89f91333",
   "metadata": {},
   "outputs": [
    {
     "data": {
      "text/html": [
       "<div>\n",
       "<style scoped>\n",
       "    .dataframe tbody tr th:only-of-type {\n",
       "        vertical-align: middle;\n",
       "    }\n",
       "\n",
       "    .dataframe tbody tr th {\n",
       "        vertical-align: top;\n",
       "    }\n",
       "\n",
       "    .dataframe thead th {\n",
       "        text-align: right;\n",
       "    }\n",
       "</style>\n",
       "<table border=\"1\" class=\"dataframe\">\n",
       "  <thead>\n",
       "    <tr style=\"text-align: right;\">\n",
       "      <th></th>\n",
       "      <th>Country</th>\n",
       "      <th>HighestEducation</th>\n",
       "      <th>YearOfExperience</th>\n",
       "      <th>Salary</th>\n",
       "    </tr>\n",
       "  </thead>\n",
       "  <tbody>\n",
       "    <tr>\n",
       "      <th>0</th>\n",
       "      <td>India</td>\n",
       "      <td>Bachelor's Degree</td>\n",
       "      <td>1.0</td>\n",
       "      <td>1512.0</td>\n",
       "    </tr>\n",
       "    <tr>\n",
       "      <th>1</th>\n",
       "      <td>India</td>\n",
       "      <td>Master’s Degree</td>\n",
       "      <td>9.5</td>\n",
       "      <td>30716.0</td>\n",
       "    </tr>\n",
       "    <tr>\n",
       "      <th>2</th>\n",
       "      <td>India</td>\n",
       "      <td>Bachelor's Degree</td>\n",
       "      <td>2.0</td>\n",
       "      <td>5585.0</td>\n",
       "    </tr>\n",
       "    <tr>\n",
       "      <th>3</th>\n",
       "      <td>India</td>\n",
       "      <td>Bachelor's Degree</td>\n",
       "      <td>5.0</td>\n",
       "      <td>37696.5</td>\n",
       "    </tr>\n",
       "    <tr>\n",
       "      <th>4</th>\n",
       "      <td>India</td>\n",
       "      <td>Bachelor's Degree</td>\n",
       "      <td>4.0</td>\n",
       "      <td>21676.0</td>\n",
       "    </tr>\n",
       "  </tbody>\n",
       "</table>\n",
       "</div>"
      ],
      "text/plain": [
       "  Country   HighestEducation  YearOfExperience   Salary\n",
       "0   India  Bachelor's Degree               1.0   1512.0\n",
       "1   India    Master’s Degree               9.5  30716.0\n",
       "2   India  Bachelor's Degree               2.0   5585.0\n",
       "3   India  Bachelor's Degree               5.0  37696.5\n",
       "4   India  Bachelor's Degree               4.0  21676.0"
      ]
     },
     "execution_count": 37,
     "metadata": {},
     "output_type": "execute_result"
    }
   ],
   "source": [
    "new_df.head()"
   ]
  },
  {
   "cell_type": "code",
   "execution_count": 38,
   "id": "2dcb7a2b",
   "metadata": {},
   "outputs": [],
   "source": [
    "dfx = new_df.copy()"
   ]
  },
  {
   "cell_type": "code",
   "execution_count": 39,
   "id": "2f7547c0",
   "metadata": {},
   "outputs": [],
   "source": [
    "from sklearn.preprocessing import LabelEncoder"
   ]
  },
  {
   "cell_type": "code",
   "execution_count": 40,
   "id": "412d81b9",
   "metadata": {},
   "outputs": [
    {
     "data": {
      "text/plain": [
       "array([ 6, 12,  8,  0, 17,  2, 10,  9, 11,  1,  7, 14, 15,  4,  3,  5, 16,\n",
       "       13])"
      ]
     },
     "execution_count": 40,
     "metadata": {},
     "output_type": "execute_result"
    }
   ],
   "source": [
    "le_country = LabelEncoder()\n",
    "dfx['Country'] = le_country.fit_transform(dfx['Country'])\n",
    "dfx['Country'].unique()"
   ]
  },
  {
   "cell_type": "code",
   "execution_count": 41,
   "id": "6e04e954",
   "metadata": {},
   "outputs": [
    {
     "data": {
      "text/plain": [
       "array([0, 1, 2])"
      ]
     },
     "execution_count": 41,
     "metadata": {},
     "output_type": "execute_result"
    }
   ],
   "source": [
    "le_education = LabelEncoder()\n",
    "dfx['HighestEducation'] = le_education.fit_transform(dfx['HighestEducation'])\n",
    "dfx['HighestEducation'].unique()"
   ]
  },
  {
   "cell_type": "code",
   "execution_count": 42,
   "id": "d360776e",
   "metadata": {},
   "outputs": [
    {
     "data": {
      "text/html": [
       "<div>\n",
       "<style scoped>\n",
       "    .dataframe tbody tr th:only-of-type {\n",
       "        vertical-align: middle;\n",
       "    }\n",
       "\n",
       "    .dataframe tbody tr th {\n",
       "        vertical-align: top;\n",
       "    }\n",
       "\n",
       "    .dataframe thead th {\n",
       "        text-align: right;\n",
       "    }\n",
       "</style>\n",
       "<table border=\"1\" class=\"dataframe\">\n",
       "  <thead>\n",
       "    <tr style=\"text-align: right;\">\n",
       "      <th></th>\n",
       "      <th>Country</th>\n",
       "      <th>HighestEducation</th>\n",
       "      <th>YearOfExperience</th>\n",
       "      <th>Salary</th>\n",
       "    </tr>\n",
       "  </thead>\n",
       "  <tbody>\n",
       "    <tr>\n",
       "      <th>0</th>\n",
       "      <td>6</td>\n",
       "      <td>0</td>\n",
       "      <td>1.0</td>\n",
       "      <td>1512.0</td>\n",
       "    </tr>\n",
       "    <tr>\n",
       "      <th>1</th>\n",
       "      <td>6</td>\n",
       "      <td>1</td>\n",
       "      <td>9.5</td>\n",
       "      <td>30716.0</td>\n",
       "    </tr>\n",
       "    <tr>\n",
       "      <th>2</th>\n",
       "      <td>6</td>\n",
       "      <td>0</td>\n",
       "      <td>2.0</td>\n",
       "      <td>5585.0</td>\n",
       "    </tr>\n",
       "    <tr>\n",
       "      <th>3</th>\n",
       "      <td>6</td>\n",
       "      <td>0</td>\n",
       "      <td>5.0</td>\n",
       "      <td>37696.5</td>\n",
       "    </tr>\n",
       "    <tr>\n",
       "      <th>4</th>\n",
       "      <td>6</td>\n",
       "      <td>0</td>\n",
       "      <td>4.0</td>\n",
       "      <td>21676.0</td>\n",
       "    </tr>\n",
       "  </tbody>\n",
       "</table>\n",
       "</div>"
      ],
      "text/plain": [
       "   Country  HighestEducation  YearOfExperience   Salary\n",
       "0        6                 0               1.0   1512.0\n",
       "1        6                 1               9.5  30716.0\n",
       "2        6                 0               2.0   5585.0\n",
       "3        6                 0               5.0  37696.5\n",
       "4        6                 0               4.0  21676.0"
      ]
     },
     "execution_count": 42,
     "metadata": {},
     "output_type": "execute_result"
    }
   ],
   "source": [
    "dfx.head()"
   ]
  },
  {
   "cell_type": "markdown",
   "id": "de2288a1",
   "metadata": {},
   "source": [
    "# Model Building"
   ]
  },
  {
   "cell_type": "code",
   "execution_count": 43,
   "id": "9ba68c17",
   "metadata": {},
   "outputs": [],
   "source": [
    "# values assign in x and y\n",
    "X = dfx.drop('Salary', axis = 1)\n",
    "y = dfx['Salary']"
   ]
  },
  {
   "cell_type": "code",
   "execution_count": 44,
   "id": "a768aa4a",
   "metadata": {},
   "outputs": [],
   "source": [
    "# import train test split for split data\n",
    "from sklearn.model_selection import train_test_split"
   ]
  },
  {
   "cell_type": "code",
   "execution_count": 45,
   "id": "ba1f3e87",
   "metadata": {},
   "outputs": [],
   "source": [
    "# split train and test data\n",
    "X_train,X_test,y_train,y_test = train_test_split(X,y,test_size=0.2)"
   ]
  },
  {
   "cell_type": "code",
   "execution_count": 46,
   "id": "4c75f8b5",
   "metadata": {},
   "outputs": [],
   "source": [
    "# import decision tree regressor for prediction\n",
    "from sklearn.tree import DecisionTreeRegressor"
   ]
  },
  {
   "cell_type": "markdown",
   "id": "814a9562",
   "metadata": {},
   "source": [
    "**Use Grid Search CV For Better Result**"
   ]
  },
  {
   "cell_type": "code",
   "execution_count": 47,
   "id": "36a9e706",
   "metadata": {},
   "outputs": [],
   "source": [
    "# import grid search cv fro get best model\n",
    "from sklearn.model_selection import GridSearchCV"
   ]
  },
  {
   "cell_type": "code",
   "execution_count": 48,
   "id": "a992ec3f",
   "metadata": {},
   "outputs": [
    {
     "data": {
      "text/html": [
       "<style>#sk-container-id-1 {color: black;background-color: white;}#sk-container-id-1 pre{padding: 0;}#sk-container-id-1 div.sk-toggleable {background-color: white;}#sk-container-id-1 label.sk-toggleable__label {cursor: pointer;display: block;width: 100%;margin-bottom: 0;padding: 0.3em;box-sizing: border-box;text-align: center;}#sk-container-id-1 label.sk-toggleable__label-arrow:before {content: \"▸\";float: left;margin-right: 0.25em;color: #696969;}#sk-container-id-1 label.sk-toggleable__label-arrow:hover:before {color: black;}#sk-container-id-1 div.sk-estimator:hover label.sk-toggleable__label-arrow:before {color: black;}#sk-container-id-1 div.sk-toggleable__content {max-height: 0;max-width: 0;overflow: hidden;text-align: left;background-color: #f0f8ff;}#sk-container-id-1 div.sk-toggleable__content pre {margin: 0.2em;color: black;border-radius: 0.25em;background-color: #f0f8ff;}#sk-container-id-1 input.sk-toggleable__control:checked~div.sk-toggleable__content {max-height: 200px;max-width: 100%;overflow: auto;}#sk-container-id-1 input.sk-toggleable__control:checked~label.sk-toggleable__label-arrow:before {content: \"▾\";}#sk-container-id-1 div.sk-estimator input.sk-toggleable__control:checked~label.sk-toggleable__label {background-color: #d4ebff;}#sk-container-id-1 div.sk-label input.sk-toggleable__control:checked~label.sk-toggleable__label {background-color: #d4ebff;}#sk-container-id-1 input.sk-hidden--visually {border: 0;clip: rect(1px 1px 1px 1px);clip: rect(1px, 1px, 1px, 1px);height: 1px;margin: -1px;overflow: hidden;padding: 0;position: absolute;width: 1px;}#sk-container-id-1 div.sk-estimator {font-family: monospace;background-color: #f0f8ff;border: 1px dotted black;border-radius: 0.25em;box-sizing: border-box;margin-bottom: 0.5em;}#sk-container-id-1 div.sk-estimator:hover {background-color: #d4ebff;}#sk-container-id-1 div.sk-parallel-item::after {content: \"\";width: 100%;border-bottom: 1px solid gray;flex-grow: 1;}#sk-container-id-1 div.sk-label:hover label.sk-toggleable__label {background-color: #d4ebff;}#sk-container-id-1 div.sk-serial::before {content: \"\";position: absolute;border-left: 1px solid gray;box-sizing: border-box;top: 0;bottom: 0;left: 50%;z-index: 0;}#sk-container-id-1 div.sk-serial {display: flex;flex-direction: column;align-items: center;background-color: white;padding-right: 0.2em;padding-left: 0.2em;position: relative;}#sk-container-id-1 div.sk-item {position: relative;z-index: 1;}#sk-container-id-1 div.sk-parallel {display: flex;align-items: stretch;justify-content: center;background-color: white;position: relative;}#sk-container-id-1 div.sk-item::before, #sk-container-id-1 div.sk-parallel-item::before {content: \"\";position: absolute;border-left: 1px solid gray;box-sizing: border-box;top: 0;bottom: 0;left: 50%;z-index: -1;}#sk-container-id-1 div.sk-parallel-item {display: flex;flex-direction: column;z-index: 1;position: relative;background-color: white;}#sk-container-id-1 div.sk-parallel-item:first-child::after {align-self: flex-end;width: 50%;}#sk-container-id-1 div.sk-parallel-item:last-child::after {align-self: flex-start;width: 50%;}#sk-container-id-1 div.sk-parallel-item:only-child::after {width: 0;}#sk-container-id-1 div.sk-dashed-wrapped {border: 1px dashed gray;margin: 0 0.4em 0.5em 0.4em;box-sizing: border-box;padding-bottom: 0.4em;background-color: white;}#sk-container-id-1 div.sk-label label {font-family: monospace;font-weight: bold;display: inline-block;line-height: 1.2em;}#sk-container-id-1 div.sk-label-container {text-align: center;}#sk-container-id-1 div.sk-container {/* jupyter's `normalize.less` sets `[hidden] { display: none; }` but bootstrap.min.css set `[hidden] { display: none !important; }` so we also need the `!important` here to be able to override the default hidden behavior on the sphinx rendered scikit-learn.org. See: https://github.com/scikit-learn/scikit-learn/issues/21755 */display: inline-block !important;position: relative;}#sk-container-id-1 div.sk-text-repr-fallback {display: none;}</style><div id=\"sk-container-id-1\" class=\"sk-top-container\"><div class=\"sk-text-repr-fallback\"><pre>GridSearchCV(estimator=DecisionTreeRegressor(),\n",
       "             param_grid={&#x27;max_depth&#x27;: [1, 2, 3, 4, 5, 6, 7, 8, 9, 10, 20, 30]},\n",
       "             scoring=&#x27;neg_mean_squared_error&#x27;)</pre><b>In a Jupyter environment, please rerun this cell to show the HTML representation or trust the notebook. <br />On GitHub, the HTML representation is unable to render, please try loading this page with nbviewer.org.</b></div><div class=\"sk-container\" hidden><div class=\"sk-item sk-dashed-wrapped\"><div class=\"sk-label-container\"><div class=\"sk-label sk-toggleable\"><input class=\"sk-toggleable__control sk-hidden--visually\" id=\"sk-estimator-id-1\" type=\"checkbox\" ><label for=\"sk-estimator-id-1\" class=\"sk-toggleable__label sk-toggleable__label-arrow\">GridSearchCV</label><div class=\"sk-toggleable__content\"><pre>GridSearchCV(estimator=DecisionTreeRegressor(),\n",
       "             param_grid={&#x27;max_depth&#x27;: [1, 2, 3, 4, 5, 6, 7, 8, 9, 10, 20, 30]},\n",
       "             scoring=&#x27;neg_mean_squared_error&#x27;)</pre></div></div></div><div class=\"sk-parallel\"><div class=\"sk-parallel-item\"><div class=\"sk-item\"><div class=\"sk-label-container\"><div class=\"sk-label sk-toggleable\"><input class=\"sk-toggleable__control sk-hidden--visually\" id=\"sk-estimator-id-2\" type=\"checkbox\" ><label for=\"sk-estimator-id-2\" class=\"sk-toggleable__label sk-toggleable__label-arrow\">estimator: DecisionTreeRegressor</label><div class=\"sk-toggleable__content\"><pre>DecisionTreeRegressor()</pre></div></div></div><div class=\"sk-serial\"><div class=\"sk-item\"><div class=\"sk-estimator sk-toggleable\"><input class=\"sk-toggleable__control sk-hidden--visually\" id=\"sk-estimator-id-3\" type=\"checkbox\" ><label for=\"sk-estimator-id-3\" class=\"sk-toggleable__label sk-toggleable__label-arrow\">DecisionTreeRegressor</label><div class=\"sk-toggleable__content\"><pre>DecisionTreeRegressor()</pre></div></div></div></div></div></div></div></div></div></div>"
      ],
      "text/plain": [
       "GridSearchCV(estimator=DecisionTreeRegressor(),\n",
       "             param_grid={'max_depth': [1, 2, 3, 4, 5, 6, 7, 8, 9, 10, 20, 30]},\n",
       "             scoring='neg_mean_squared_error')"
      ]
     },
     "execution_count": 48,
     "metadata": {},
     "output_type": "execute_result"
    }
   ],
   "source": [
    "# train our model by different different paramiters\n",
    "params = {'max_depth':[1,2,3,4,5,6,7,8,9,10,20,30]}\n",
    "dtr = DecisionTreeRegressor()\n",
    "gsc = GridSearchCV(dtr,params,scoring='neg_mean_squared_error')\n",
    "gsc.fit(X_train,y_train)"
   ]
  },
  {
   "cell_type": "code",
   "execution_count": 49,
   "id": "5fc1682f",
   "metadata": {},
   "outputs": [
    {
     "name": "stdout",
     "output_type": "stream",
     "text": [
      "Best Parameters: {'max_depth': 20}\n",
      "Best Scores: -921550793.9987423\n"
     ]
    }
   ],
   "source": [
    "# check best score and parameter of our model\n",
    "print('Best Parameters:', gsc.best_params_)\n",
    "print('Best Scores:', gsc.best_score_)"
   ]
  },
  {
   "cell_type": "code",
   "execution_count": 50,
   "id": "c972e100",
   "metadata": {},
   "outputs": [
    {
     "data": {
      "text/html": [
       "<style>#sk-container-id-2 {color: black;background-color: white;}#sk-container-id-2 pre{padding: 0;}#sk-container-id-2 div.sk-toggleable {background-color: white;}#sk-container-id-2 label.sk-toggleable__label {cursor: pointer;display: block;width: 100%;margin-bottom: 0;padding: 0.3em;box-sizing: border-box;text-align: center;}#sk-container-id-2 label.sk-toggleable__label-arrow:before {content: \"▸\";float: left;margin-right: 0.25em;color: #696969;}#sk-container-id-2 label.sk-toggleable__label-arrow:hover:before {color: black;}#sk-container-id-2 div.sk-estimator:hover label.sk-toggleable__label-arrow:before {color: black;}#sk-container-id-2 div.sk-toggleable__content {max-height: 0;max-width: 0;overflow: hidden;text-align: left;background-color: #f0f8ff;}#sk-container-id-2 div.sk-toggleable__content pre {margin: 0.2em;color: black;border-radius: 0.25em;background-color: #f0f8ff;}#sk-container-id-2 input.sk-toggleable__control:checked~div.sk-toggleable__content {max-height: 200px;max-width: 100%;overflow: auto;}#sk-container-id-2 input.sk-toggleable__control:checked~label.sk-toggleable__label-arrow:before {content: \"▾\";}#sk-container-id-2 div.sk-estimator input.sk-toggleable__control:checked~label.sk-toggleable__label {background-color: #d4ebff;}#sk-container-id-2 div.sk-label input.sk-toggleable__control:checked~label.sk-toggleable__label {background-color: #d4ebff;}#sk-container-id-2 input.sk-hidden--visually {border: 0;clip: rect(1px 1px 1px 1px);clip: rect(1px, 1px, 1px, 1px);height: 1px;margin: -1px;overflow: hidden;padding: 0;position: absolute;width: 1px;}#sk-container-id-2 div.sk-estimator {font-family: monospace;background-color: #f0f8ff;border: 1px dotted black;border-radius: 0.25em;box-sizing: border-box;margin-bottom: 0.5em;}#sk-container-id-2 div.sk-estimator:hover {background-color: #d4ebff;}#sk-container-id-2 div.sk-parallel-item::after {content: \"\";width: 100%;border-bottom: 1px solid gray;flex-grow: 1;}#sk-container-id-2 div.sk-label:hover label.sk-toggleable__label {background-color: #d4ebff;}#sk-container-id-2 div.sk-serial::before {content: \"\";position: absolute;border-left: 1px solid gray;box-sizing: border-box;top: 0;bottom: 0;left: 50%;z-index: 0;}#sk-container-id-2 div.sk-serial {display: flex;flex-direction: column;align-items: center;background-color: white;padding-right: 0.2em;padding-left: 0.2em;position: relative;}#sk-container-id-2 div.sk-item {position: relative;z-index: 1;}#sk-container-id-2 div.sk-parallel {display: flex;align-items: stretch;justify-content: center;background-color: white;position: relative;}#sk-container-id-2 div.sk-item::before, #sk-container-id-2 div.sk-parallel-item::before {content: \"\";position: absolute;border-left: 1px solid gray;box-sizing: border-box;top: 0;bottom: 0;left: 50%;z-index: -1;}#sk-container-id-2 div.sk-parallel-item {display: flex;flex-direction: column;z-index: 1;position: relative;background-color: white;}#sk-container-id-2 div.sk-parallel-item:first-child::after {align-self: flex-end;width: 50%;}#sk-container-id-2 div.sk-parallel-item:last-child::after {align-self: flex-start;width: 50%;}#sk-container-id-2 div.sk-parallel-item:only-child::after {width: 0;}#sk-container-id-2 div.sk-dashed-wrapped {border: 1px dashed gray;margin: 0 0.4em 0.5em 0.4em;box-sizing: border-box;padding-bottom: 0.4em;background-color: white;}#sk-container-id-2 div.sk-label label {font-family: monospace;font-weight: bold;display: inline-block;line-height: 1.2em;}#sk-container-id-2 div.sk-label-container {text-align: center;}#sk-container-id-2 div.sk-container {/* jupyter's `normalize.less` sets `[hidden] { display: none; }` but bootstrap.min.css set `[hidden] { display: none !important; }` so we also need the `!important` here to be able to override the default hidden behavior on the sphinx rendered scikit-learn.org. See: https://github.com/scikit-learn/scikit-learn/issues/21755 */display: inline-block !important;position: relative;}#sk-container-id-2 div.sk-text-repr-fallback {display: none;}</style><div id=\"sk-container-id-2\" class=\"sk-top-container\"><div class=\"sk-text-repr-fallback\"><pre>DecisionTreeRegressor(max_depth=20)</pre><b>In a Jupyter environment, please rerun this cell to show the HTML representation or trust the notebook. <br />On GitHub, the HTML representation is unable to render, please try loading this page with nbviewer.org.</b></div><div class=\"sk-container\" hidden><div class=\"sk-item\"><div class=\"sk-estimator sk-toggleable\"><input class=\"sk-toggleable__control sk-hidden--visually\" id=\"sk-estimator-id-4\" type=\"checkbox\" checked><label for=\"sk-estimator-id-4\" class=\"sk-toggleable__label sk-toggleable__label-arrow\">DecisionTreeRegressor</label><div class=\"sk-toggleable__content\"><pre>DecisionTreeRegressor(max_depth=20)</pre></div></div></div></div></div>"
      ],
      "text/plain": [
       "DecisionTreeRegressor(max_depth=20)"
      ]
     },
     "execution_count": 50,
     "metadata": {},
     "output_type": "execute_result"
    }
   ],
   "source": [
    "# train our model with best estimator\n",
    "dttr = gsc.best_estimator_\n",
    "dttr.fit(X_train,y_train)"
   ]
  },
  {
   "cell_type": "code",
   "execution_count": 51,
   "id": "0e3b3dd6",
   "metadata": {},
   "outputs": [],
   "source": [
    "# get prediction value\n",
    "y_pred = dttr.predict(X_test)"
   ]
  },
  {
   "cell_type": "code",
   "execution_count": 52,
   "id": "d8057cd3",
   "metadata": {},
   "outputs": [],
   "source": [
    "# import r2 score for check performance of our model\n",
    "from sklearn.metrics import r2_score"
   ]
  },
  {
   "cell_type": "code",
   "execution_count": 53,
   "id": "cf9feb46",
   "metadata": {},
   "outputs": [
    {
     "data": {
      "text/plain": [
       "0.6754083918512388"
      ]
     },
     "execution_count": 53,
     "metadata": {},
     "output_type": "execute_result"
    }
   ],
   "source": [
    "# check accuracy of our model\n",
    "r2_score(y_test,y_pred)"
   ]
  },
  {
   "cell_type": "code",
   "execution_count": 54,
   "id": "c7e5625f",
   "metadata": {},
   "outputs": [
    {
     "data": {
      "image/png": "[encoded data removed]",
      "text/plain": [
       "<Figure size 360x360 with 1 Axes>"
      ]
     },
     "metadata": {
      "needs_background": "light"
     },
     "output_type": "display_data"
    }
   ],
   "source": [
    "# check performance and accuracy by distplot\n",
    "sns.displot(y_pred-y_test,kind = 'kde')\n",
    "plt.show()"
   ]
  },
  {
   "cell_type": "code",
   "execution_count": 55,
   "id": "b8d25cd6",
   "metadata": {},
   "outputs": [
    {
     "name": "stderr",
     "output_type": "stream",
     "text": [
      "C:\\Users\\mridh\\anaconda3\\lib\\site-packages\\seaborn\\_decorators.py:36: FutureWarning: Pass the following variables as keyword args: x, y. From version 0.12, the only valid positional argument will be `data`, and passing other arguments without an explicit keyword will result in an error or misinterpretation.\n",
      "  warnings.warn(\n"
     ]
    },
    {
     "data": {
      "image/png": "[encoded data removed]",
      "text/plain": [
       "<Figure size 432x288 with 1 Axes>"
      ]
     },
     "metadata": {
      "needs_background": "light"
     },
     "output_type": "display_data"
    }
   ],
   "source": [
    "# check accuracy and performance of model by scatter plot\n",
    "sns.scatterplot(y_pred,y_test)\n",
    "plt.show()"
   ]
  },
  {
   "cell_type": "code",
   "execution_count": null,
   "id": "770c9bcc",
   "metadata": {},
   "outputs": [],
   "source": []
  }
 ],
 "metadata": {
  "kernelspec": {
   "display_name": "Python 3 (ipykernel)",
   "language": "python",
   "name": "python3"
  },
  "language_info": {
   "codemirror_mode": {
    "name": "ipython",
    "version": 3
   },
   "file_extension": ".py",
   "mimetype": "text/x-python",
   "name": "python",
   "nbconvert_exporter": "python",
   "pygments_lexer": "ipython3",
   "version": "3.9.7"
  }
 },
 "nbformat": 4,
 "nbformat_minor": 5
}
